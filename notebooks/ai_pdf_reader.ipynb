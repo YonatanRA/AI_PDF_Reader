{
 "cells": [
  {
   "cell_type": "markdown",
   "id": "88192245",
   "metadata": {},
   "source": [
    "# AI PDF Reader Assistant"
   ]
  },
  {
   "cell_type": "markdown",
   "id": "86ce8e06",
   "metadata": {
    "toc": true
   },
   "source": [
    "<h1>Table of Contents<span class=\"tocSkip\"></span></h1>\n",
    "<div class=\"toc\"><ul class=\"toc-item\"><li><span><a href=\"#1.-OpenAI-API-KEY\" data-toc-modified-id=\"1.-OpenAI-API-KEY-1\">1. OpenAI API KEY</a></span></li><li><span><a href=\"#2.-Testing-GPT4-from-LangChain\" data-toc-modified-id=\"2.-Testing-GPT4-from-LangChain-2\">2. Testing GPT4 from LangChain</a></span></li><li><span><a href=\"#3.-Loading-PDF-file\" data-toc-modified-id=\"3.-Loading-PDF-file-3\">3. Loading PDF file</a></span></li><li><span><a href=\"#4.-Chunks\" data-toc-modified-id=\"4.-Chunks-4\">4. Chunks</a></span></li><li><span><a href=\"#5.-Embedding-Model\" data-toc-modified-id=\"5.-Embedding-Model-5\">5. Embedding Model</a></span></li><li><span><a href=\"#6.-Store-in-ChromaDB\" data-toc-modified-id=\"6.-Store-in-ChromaDB-6\">6. Store in ChromaDB</a></span></li><li><span><a href=\"#7.-Load-from-storage\" data-toc-modified-id=\"7.-Load-from-storage-7\">7. Load from storage</a></span></li><li><span><a href=\"#8.-Prompt-template\" data-toc-modified-id=\"8.-Prompt-template-8\">8. Prompt template</a></span></li><li><span><a href=\"#9.-Chain\" data-toc-modified-id=\"9.-Chain-9\">9. Chain</a></span></li><li><span><a href=\"#10.-Code-Summary\" data-toc-modified-id=\"10.-Code-Summary-10\">10. Code Summary</a></span><ul class=\"toc-item\"><li><span><a href=\"#Some-questions\" data-toc-modified-id=\"Some-questions-10.1\">Some questions</a></span></li></ul></li></ul></div>"
   ]
  },
  {
   "cell_type": "markdown",
   "id": "fd8ff9d9",
   "metadata": {},
   "source": [
    "## 1. OpenAI API KEY\n",
    "\n",
    "To carry out this project, we will need an API KEY from OpenAI to use the GPT-4 Turbo model. This API KEY can be obtained at https://platform.openai.com/api-keys. It is only displayed once, so it must be saved at the moment it is obtained. Of course, we will need to create an account to get it.\n",
    "\n",
    "We store the API KEY in a `.env` file to load it with the dotenv library and use it as an environment variable. This file is added to the `.gitignore` to ensure that it cannot be seen if we upload the code to GitHub, for example."
   ]
  },
  {
   "cell_type": "code",
   "execution_count": 1,
   "id": "6ab0f252",
   "metadata": {},
   "outputs": [],
   "source": [
    "# import API KEY\n",
    "\n",
    "import os                           # operating system library\n",
    "from dotenv import load_dotenv      # load environment variables  \n",
    "\n",
    "\n",
    "load_dotenv()\n",
    "\n",
    "\n",
    "OPENAI_API_KEY = os.getenv(\"OPENAI_API_KEY\")"
   ]
  },
  {
   "cell_type": "markdown",
   "id": "53d4f97a",
   "metadata": {},
   "source": [
    "## 2. Testing GPT4 from LangChain\n",
    "\n",
    "We are going to test the connection from LangChain to the GPT-4 model. We´ll just ask who the Apple's CEO is."
   ]
  },
  {
   "cell_type": "code",
   "execution_count": 2,
   "id": "2ba14692",
   "metadata": {},
   "outputs": [
    {
     "data": {
      "text/plain": [
       "\"As of the last update in 2023, Apple's CEO is Tim Cook. He has been in this position since August 2011, succeeding Steve Jobs.\""
      ]
     },
     "execution_count": 2,
     "metadata": {},
     "output_type": "execute_result"
    }
   ],
   "source": [
    "from langchain_openai.chat_models import ChatOpenAI   # LangChain connection to OpenAI\n",
    "\n",
    "model = ChatOpenAI(openai_api_key=OPENAI_API_KEY, model=\"gpt-4-turbo\")\n",
    "\n",
    "response = model.invoke(\"Who is Apple's CEO?\")\n",
    "\n",
    "response.content"
   ]
  },
  {
   "cell_type": "markdown",
   "id": "219cbcc1",
   "metadata": {},
   "source": [
    "## 3. Loading PDF file\n",
    "\n",
    "Now, we load the [2023 Apple's Form 10-K](https://s2.q4cdn.com/470004039/files/doc_earnings/2023/q4/filing/_10-K-Q4-2023-As-Filed.pdf) PDF file previously downloaded. A 10-K is a comprehensive report filed annually by a publicly-traded company about its financial performance and is required by the U.S. Securities and Exchange Commission (SEC). The report contains much more detail than a company's annual report, which is sent to its shareholders before an annual meeting to elect company directors."
   ]
  },
  {
   "cell_type": "code",
   "execution_count": 3,
   "id": "80a4019b",
   "metadata": {},
   "outputs": [
    {
     "data": {
      "text/plain": [
       "['_10-K-Q4-2023-As-Filed.pdf']"
      ]
     },
     "execution_count": 3,
     "metadata": {},
     "output_type": "execute_result"
    }
   ],
   "source": [
    "os.listdir(\"../pdfs\")"
   ]
  },
  {
   "cell_type": "code",
   "execution_count": 4,
   "id": "f8cdf0ac",
   "metadata": {},
   "outputs": [],
   "source": [
    "from langchain_community.document_loaders import PyPDFDirectoryLoader"
   ]
  },
  {
   "cell_type": "code",
   "execution_count": 5,
   "id": "928ef5ed",
   "metadata": {},
   "outputs": [],
   "source": [
    "# loads PDF file page by page\n",
    "\n",
    "loader = PyPDFDirectoryLoader(\"../pdfs/\")\n",
    "\n",
    "pages = loader.load()"
   ]
  },
  {
   "cell_type": "code",
   "execution_count": 6,
   "id": "ff78214a",
   "metadata": {},
   "outputs": [
    {
     "data": {
      "text/plain": [
       "80"
      ]
     },
     "execution_count": 6,
     "metadata": {},
     "output_type": "execute_result"
    }
   ],
   "source": [
    "len(pages)"
   ]
  },
  {
   "cell_type": "code",
   "execution_count": 7,
   "id": "2a4aa84f",
   "metadata": {},
   "outputs": [
    {
     "data": {
      "text/plain": [
       "Document(page_content='UNITED STATES\\nSECURITIES AND EXCHANGE COMMISSION\\nWashington, D.C. 20549\\nFORM 10-K\\n(Mark One)\\n☒    ANNUAL REPORT PURSUANT TO SECTION 13 OR 15(d) OF THE SECURITIES EXCHANGE ACT OF 1934\\nFor the fiscal year ended September\\xa030, 2023\\nor\\n☐    TRANSITION REPORT PURSUANT TO SECTION 13 OR 15(d) OF THE SECURITIES EXCHANGE ACT OF 1934\\nFor the transition period from \\xa0\\xa0\\xa0\\xa0\\xa0\\xa0\\xa0\\xa0\\xa0\\xa0\\xa0\\xa0  to \\xa0\\xa0\\xa0\\xa0\\xa0\\xa0\\xa0\\xa0\\xa0\\xa0\\xa0\\xa0 .\\nCommission File Number: 001-36743\\nApple Inc.\\n(Exact name of Registrant as specified in its charter)\\nCalifornia 94-2404110\\n(State or other jurisdiction\\nof incorporation or organization)(I.R.S. Employer Identification No.)\\nOne Apple Park Way\\nCupertino , California 95014\\n(Address of principal executive offices) (Zip Code)\\n(408) 996-1010\\n(Registrant’s telephone number, including area code)\\nSecurities registered pursuant to Section 12(b) of the Act:\\nTitle of each classTrading \\nsymbol(s) Name of each exchange on which registered\\nCommon Stock, $0.00001  par value per share AAPL The Nasdaq Stock Market LLC\\n1.375% Notes due 2024 — The Nasdaq Stock Market LLC\\n0.000% Notes due 2025 — The Nasdaq Stock Market LLC\\n0.875% Notes due 2025 — The Nasdaq Stock Market LLC\\n1.625% Notes due 2026 — The Nasdaq Stock Market LLC\\n2.000% Notes due 2027 — The Nasdaq Stock Market LLC\\n1.375% Notes due 2029 — The Nasdaq Stock Market LLC\\n3.050% Notes due 2029 — The Nasdaq Stock Market LLC\\n0.500% Notes due 2031 — The Nasdaq Stock Market LLC\\n3.600% Notes due 2042 — The Nasdaq Stock Market LLC\\nSecurities registered pursuant to Section 12(g) of the Act:  None\\nIndicate by check mark if the Registrant is a well-known seasoned issuer, as defined in Rule 405 of the Securities Act.\\nYes\\xa0\\xa0☒\\xa0\\xa0\\xa0\\xa0\\xa0No\\xa0\\xa0☐\\nIndicate by check mark if the Registrant is not required to file reports pursuant to Section 13 or Section 15(d) of the Act.\\nYes\\xa0\\xa0☐\\xa0\\xa0\\xa0\\xa0\\xa0No\\xa0\\xa0☒', metadata={'source': '../pdfs/_10-K-Q4-2023-As-Filed.pdf', 'page': 0})"
      ]
     },
     "execution_count": 7,
     "metadata": {},
     "output_type": "execute_result"
    }
   ],
   "source": [
    "pages[0]  # first pdf page"
   ]
  },
  {
   "cell_type": "markdown",
   "id": "95f4eba2",
   "metadata": {},
   "source": [
    "## 4. Chunks\n",
    "\n",
    "The `PyPDFDirectoryLoader` uses a TextSplitter instance, specifically the `RecursiveCharacterTextSplitter` by default, to handle the document splitting. This approach helps in breaking down large PDF files or collections of files into manageable chunks for further processing. The loader ensures that each chunk is manageable and retains necessary metadata, like page numbers, which are important for referencing and maintaining the integrity of the source documents during processing."
   ]
  },
  {
   "cell_type": "code",
   "execution_count": 8,
   "id": "75ee7f82",
   "metadata": {},
   "outputs": [],
   "source": [
    "chunks = loader.load_and_split()"
   ]
  },
  {
   "cell_type": "code",
   "execution_count": 9,
   "id": "51680d3b",
   "metadata": {},
   "outputs": [
    {
     "data": {
      "text/plain": [
       "106"
      ]
     },
     "execution_count": 9,
     "metadata": {},
     "output_type": "execute_result"
    }
   ],
   "source": [
    "len(chunks)"
   ]
  },
  {
   "cell_type": "code",
   "execution_count": 10,
   "id": "bdc8b9fd",
   "metadata": {},
   "outputs": [
    {
     "data": {
      "text/plain": [
       "Document(page_content='The gross fair values of the Company’s derivative assets and liabilities as of September\\xa024, 2022  were as follows (in millions):\\n2022\\nFair Value of\\nDerivatives Designated\\nas Accounting HedgesFair Value of\\nDerivatives Not Designated\\nas Accounting HedgesTotal\\nFair Value\\nDerivative assets (1):\\nForeign exchange contracts $ 4,317 $ 2,819 $ 7,136 \\nDerivative liabilities (2):\\nForeign exchange contracts $ 2,205 $ 2,547 $ 4,752 \\nInterest rate contracts $ 1,367 $ — $ 1,367 \\n(1) Derivative assets are measured using Level 2 fair value inputs and are included in other current assets and other non-\\ncurrent assets in the Consolidated Balance Sheet.\\n(2) Derivative liabilities are measured using Level 2 fair value inputs and are included in other current liabilities and other non-\\ncurrent liabilities in the Consolidated Balance Sheet.\\nThe derivative assets above represent the Company’s gross credit exposure if all counterparties failed to perform. To mitigate \\ncredit risk, the Company generally uses collateral security arrangements that provide for collateral to be received or posted when \\nthe net fair values of certain derivatives fluctuate from contractually established thresholds. To further limit credit risk, the \\nCompany generally uses master netting arrangements with the respective counterparties to the Company’s derivative contracts, \\nunder which the Company is allowed to settle transactions with a single net amount payable by one party to the other. As of \\nSeptember\\xa024, 2022 , the potential effects of these rights of set-off associated with the Company’s derivative contracts, including \\nthe effects of collateral, would be a reduction to both derivative assets and derivative liabilities of $7.8 billion , resulting in a net \\nderivative asset of $412 million .\\nThe carrying amounts of the Company’s hedged items in fair value hedges as of September\\xa030, 2023  and September\\xa024, 2022  \\nwere as follows (in millions):\\n2023 2022\\nHedged assets/(liabilities):\\nCurrent and non-current marketable securities $ 14,433 $ 13,378 \\nCurrent and non-current term debt $ (18,247) $ (18,739) \\nAccounts Receivable\\nTrade Receivables\\nAs of September 24, 2022, the Company had one customer that represented 10% or more of total trade receivables, which \\naccounted for 10%. The Company’s third-party cellular network carriers accounted for 41% and 44% of total trade receivables as \\nof September\\xa030, 2023  and September\\xa024, 2022 , respectively. The Company requires third-party credit support or collateral from \\ncertain customers to limit credit risk.\\nVendor Non-Trade Receivables\\nThe Company has non-trade receivables from certain of its manufacturing vendors resulting from the sale of components to \\nthese vendors who manufacture subassemblies or assemble final products for the Company. The Company purchases these \\ncomponents directly from suppliers. The Company does not reflect the sale of these components in products net sales. Rather, \\nthe Company recognizes any gain on these sales as a reduction of products cost of sales when the related final products are \\nsold by the Company. As of September\\xa030, 2023 , the Company had two vendors that individually represented 10% or more of \\ntotal vendor non-trade receivables, which accounted for 48% and 23%. As of September\\xa0 24, 2022 , the Company had two \\nvendors that individually represented 10% or more of total vendor n on-trade re ceivables, which accounted for 54% and 13%.\\nApple Inc. | 2023  Form 10-K | 38', metadata={'source': '../pdfs/_10-K-Q4-2023-As-Filed.pdf', 'page': 40})"
      ]
     },
     "execution_count": 10,
     "metadata": {},
     "output_type": "execute_result"
    }
   ],
   "source": [
    "chunks[55]"
   ]
  },
  {
   "cell_type": "markdown",
   "id": "af6fc61c",
   "metadata": {},
   "source": [
    "## 5. Embedding Model\n",
    "\n",
    "Embeddings transform data, especially textual data, into a format, usually a vector of numbers, that ML algorithms can process effectively. These embeddings capture the contextual relationships and semantic meanings of words, phrases, or documents, enabling various applications in AI."
   ]
  },
  {
   "cell_type": "code",
   "execution_count": 11,
   "id": "e8be7227",
   "metadata": {},
   "outputs": [],
   "source": [
    "from langchain_openai.embeddings import OpenAIEmbeddings\n",
    "\n",
    "\n",
    "vectorizer = OpenAIEmbeddings()"
   ]
  },
  {
   "cell_type": "markdown",
   "id": "ffad9d02",
   "metadata": {},
   "source": [
    "## 6. Store in ChromaDB\n",
    "\n",
    "Chroma DB is an open-source vector database designed to store and retrieve vector embeddings efficiently. It is particularly useful for enhancing LLMs by providing relevant context to user inquiries. Chroma DB allows for the storage of embeddings along with metadata, which can later be utilized by LLMs or for semantic search engines over text data.\n",
    "\n",
    "Now, we store the chunks in the vector database."
   ]
  },
  {
   "cell_type": "code",
   "execution_count": 12,
   "id": "a82b912a",
   "metadata": {},
   "outputs": [],
   "source": [
    "from langchain_community.vectorstores import Chroma\n",
    "\n",
    "chroma_db = Chroma.from_documents(chunks, vectorizer, persist_directory=\"../chroma_db\")"
   ]
  },
  {
   "cell_type": "markdown",
   "id": "c0a40500",
   "metadata": {},
   "source": [
    "## 7. Load from storage\n",
    "\n",
    "Once the data is saved, we can perform a search for the most relevant documents based on our query. We can search directly with similarity search, based in cosine similarity, or we can instantiate a retriever object for later use.\n",
    "\n",
    "By default, the type of search conducted by the retriever, `search_type`, is by similarity and it returns the most relevant results according to that similarity. We can also use similarity with a threshold to retrieve documents that exceed a certain level of similarity to our query. The retriever also features an algorithm called MMR (maximal marginal relevance). The maximal marginal relevance algorithm selects documents based on a combination of which documents are most similar to the queries, while also optimizing for diversity. It does this by finding examples with embeddings that have the highest cosine similarity to the inputs, and then iteratively adds them while applying a penalty for closeness to already selected examples.\n",
    "\n",
    "We will use the MMR algorithm to return 15 documents. The `lambda_mult` parameter refers to the diversity of the results returned by MMR, with 1 being for minimal diversity and 0 for maximum. The default is 0.5. We will ask for a bit more diversity in its response."
   ]
  },
  {
   "cell_type": "code",
   "execution_count": 13,
   "id": "171e7f15",
   "metadata": {},
   "outputs": [
    {
     "data": {
      "text/plain": [
       "10"
      ]
     },
     "execution_count": 13,
     "metadata": {},
     "output_type": "execute_result"
    }
   ],
   "source": [
    "query = \"What can you tell me about foreign exchange contracts?\"\n",
    "\n",
    "chroma_db = Chroma(persist_directory=\"../chroma_db\", embedding_function=vectorizer)\n",
    "\n",
    "docs = chroma_db.similarity_search(query, k=10)\n",
    "\n",
    "len(docs)"
   ]
  },
  {
   "cell_type": "code",
   "execution_count": 14,
   "id": "d3b84b10",
   "metadata": {
    "scrolled": false
   },
   "outputs": [
    {
     "data": {
      "text/plain": [
       "Document(page_content='Item 7A. Quantitative and Qualitative Disclosures About Market Risk\\nThe Company is exposed to economic risk from interest rates and foreign exchange rates. The Company uses various strategies \\nto manage these risks; however, they may still impact the Company’s consolidated financial statements.\\nInterest Rate Risk\\nThe Company is primarily exposed to fluctuations in U.S. interest rates and their impact on the Company’s investment portfolio \\nand term debt. Increases in interest rates will negatively affect the fair value of the Company’s investment portfolio and increase \\nthe interest expense on the Company’s term debt. To protect against interest rate risk, the Company may use derivative \\ninstruments, offset interest rate–sensitive assets and liabilities, or control duration of the investment and term debt portfolios.\\nThe following table sets forth potential impacts on the Company’s investment portfolio and term debt, including the effects of any \\nassociated derivatives, that would result from a hypothetical increase in relevant interest rates as of September\\xa030, 2023  and \\nSeptember\\xa024, 2022  (dollars in millions):\\nInterest Rate\\nSensitive InstrumentHypothetical Interest\\nRate Increase Potential Impact 2023 2022\\nInvestment portfolio 100 basis points, all tenors Decline in fair value $ 3,089 $ 4,022 \\nTerm debt 100 basis points, all tenors Increase in annual interest expense $ 194 $ 201 \\nForeign Exchange Rate Risk\\nThe Company’s exposure to foreign exchange rate risk relates primarily to the Company being a net receiver of currencies other \\nthan the U.S. dollar. Changes in exchange rates, and in particular a strengthening of the U.S. dollar, will negatively affect the \\nCompany’s net sales and gross margins as expressed in U.S. dollars. Fluctuations in exchange rates may also affect the fair \\nvalues of certain of the Company’s assets and liabilities. To protect against foreign exchange rate risk, the Company may use \\nderivative instruments, offset exposures, or adjust local currency pricing of its products and services. However, the Company \\nmay choose to not hedge certain foreign currency exposures for a variety of reasons, including accounting considerations or \\nprohibitive cost.\\nThe Company applied a value-at-risk (“VAR”) model to its foreign currency derivative positions to assess the potential impact of \\nfluctuations in exchange rates. The VAR model used a Monte Carlo simulation. The VAR is the maximum expected loss in fair \\nvalue, for a given confidence interval, to the Company’s foreign currency derivative positions due to adverse movements in rates. \\nBased on the results of the model, the Company estimates, with 95% confidence, a maximum one-day loss in fair value of $669 \\nmillion and $1.0 billion as of September\\xa030, 2023  and September\\xa024, 2022 , respectively. Changes in the Company’s underlying \\nforeign currency exposures, which were excluded from the assessment, generally offset changes in the fair values of the \\nCompany’s foreign currency derivatives.\\nApple Inc. | 2023  Form 10-K | 26', metadata={'page': 28, 'source': '../pdfs/_10-K-Q4-2023-As-Filed.pdf'})"
      ]
     },
     "execution_count": 14,
     "metadata": {},
     "output_type": "execute_result"
    }
   ],
   "source": [
    "docs[5]"
   ]
  },
  {
   "cell_type": "code",
   "execution_count": 15,
   "id": "17383efc",
   "metadata": {},
   "outputs": [],
   "source": [
    "retriever = chroma_db.as_retriever(search_type=\"mmr\", search_kwargs={\"k\": 15, \"lambda_mult\": 0.25})"
   ]
  },
  {
   "cell_type": "code",
   "execution_count": 16,
   "id": "430c4a8e",
   "metadata": {},
   "outputs": [
    {
     "data": {
      "text/plain": [
       "VectorStoreRetriever(tags=['Chroma', 'OpenAIEmbeddings'], vectorstore=<langchain_community.vectorstores.chroma.Chroma object at 0x124a0fbe0>, search_type='mmr', search_kwargs={'k': 15, 'lambda_mult': 0.25})"
      ]
     },
     "execution_count": 16,
     "metadata": {},
     "output_type": "execute_result"
    }
   ],
   "source": [
    "retriever"
   ]
  },
  {
   "cell_type": "markdown",
   "id": "13d45176",
   "metadata": {},
   "source": [
    "## 8. Prompt template\n",
    "\n",
    "Prompt templates are predefined recipes for generating instructions for language models.\n",
    "\n",
    "A template can include instructions, context, and specific questions suitable for a given task. LangChain provides tools for creating and working with instruction templates and also strives to create model-agnostic templates to facilitate the reuse of existing templates across different language models."
   ]
  },
  {
   "cell_type": "code",
   "execution_count": 17,
   "id": "1ab4c452",
   "metadata": {},
   "outputs": [],
   "source": [
    "from langchain.prompts import ChatPromptTemplate"
   ]
  },
  {
   "cell_type": "code",
   "execution_count": 18,
   "id": "702dbb9b",
   "metadata": {},
   "outputs": [],
   "source": [
    "template = \"\"\"\n",
    "            Answer the question based on the context below. If you can't \n",
    "            answer the question, reply \"I don't know\".\n",
    "\n",
    "            Context: {context}\n",
    "\n",
    "            Question: {question}\n",
    "            \"\"\"\n",
    "\n",
    "\n",
    "prompt = ChatPromptTemplate.from_template(template)"
   ]
  },
  {
   "cell_type": "markdown",
   "id": "f5b7cfac",
   "metadata": {},
   "source": [
    "## 9. Chain\n",
    "\n",
    "A \"chain\" refers to a sequence of components or steps that are linked together to perform a specific task or set of tasks related to AI or LLMs operations. LangChain is a library designed to facilitate the building and deploying of language applications by chaining together different components such as models, databases, and custom logic. Each component in the chain handles a specific part of the task, and the output of one component serves as the input for the next, creating a seamless workflow that leverages both AI and traditional software methodologies. A chain effectively acts as a pipeline, where data flows through each component in the chain, being transformed, enhanced, or utilized at each step.\n",
    "\n",
    "In LangChain, the StrOutputParser parses the model's output directly into a string format. We will use this parser when creating the LangChain sequence; it will be an additional link in the chain, allowing us to directly obtain the LLM's response in string format.\n",
    "\n",
    "RunnablePassthrough allows inputs to pass through unchanged."
   ]
  },
  {
   "cell_type": "code",
   "execution_count": 19,
   "id": "799a406d",
   "metadata": {},
   "outputs": [],
   "source": [
    "from langchain_core.output_parsers import StrOutputParser\n",
    "\n",
    "parser = StrOutputParser()"
   ]
  },
  {
   "cell_type": "code",
   "execution_count": 20,
   "id": "f8bc708c",
   "metadata": {},
   "outputs": [],
   "source": [
    "from langchain_core.runnables import RunnablePassthrough"
   ]
  },
  {
   "cell_type": "code",
   "execution_count": 21,
   "id": "539216bd",
   "metadata": {},
   "outputs": [
    {
     "data": {
      "text/plain": [
       "'What can you tell me about foreign exchange contracts?'"
      ]
     },
     "execution_count": 21,
     "metadata": {},
     "output_type": "execute_result"
    }
   ],
   "source": [
    "query"
   ]
  },
  {
   "cell_type": "code",
   "execution_count": 22,
   "id": "895c4915",
   "metadata": {},
   "outputs": [
    {
     "data": {
      "text/plain": [
       "\"Foreign exchange contracts are derivative instruments used by companies, including Apple Inc., to hedge against fluctuations in foreign exchange rates. These contracts are a part of risk management strategies to protect against the adverse effects of currency rate movements on the company's operations and financial results.\\n\\nApple utilizes foreign exchange forward and option contracts to mitigate the risks associated with currency rate fluctuations that could affect its product component costs denominated in foreign currencies, as well as its sales and gross margins expressed in U.S. dollars. The company hedges certain exposures to mitigate the potential negative impacts on its financial results and to stabilize cash flows and earnings.\\n\\nThe effectiveness of these hedging activities may not be complete, meaning they might not fully offset the financial impact of unfavorable movements in foreign exchange rates over the time the hedges are in place. Additionally, the company might choose not to hedge certain foreign currency exposures due to reasons like prohibitive costs or accounting considerations.\\n\\nAs of the specified dates in the provided documents, Apple reported having significant notional amounts in foreign exchange contracts, both designated as accounting hedges and not designated as accounting hedges, reflecting the company's extensive use of these financial instruments to manage its exposure to foreign currency risk.\""
      ]
     },
     "execution_count": 22,
     "metadata": {},
     "output_type": "execute_result"
    }
   ],
   "source": [
    "chain = {\"context\": retriever, \"question\": RunnablePassthrough()} | prompt | model | parser\n",
    "\n",
    "\n",
    "response = chain.invoke(query)\n",
    "\n",
    "\n",
    "response"
   ]
  },
  {
   "cell_type": "markdown",
   "id": "877ed937",
   "metadata": {},
   "source": [
    "## 10. Code Summary\n",
    "\n",
    "Step by step."
   ]
  },
  {
   "cell_type": "code",
   "execution_count": 23,
   "id": "e3e185a6",
   "metadata": {},
   "outputs": [],
   "source": [
    "import os                          \n",
    "from dotenv import load_dotenv      \n",
    "from langchain_openai.embeddings import OpenAIEmbeddings\n",
    "from langchain_openai.chat_models import ChatOpenAI   \n",
    "from langchain_community.vectorstores import Chroma\n",
    "from langchain.prompts import ChatPromptTemplate\n",
    "from langchain_core.output_parsers import StrOutputParser\n",
    "from langchain_core.runnables import RunnablePassthrough\n",
    "\n",
    "\n",
    "load_dotenv()\n",
    "\n",
    "\n",
    "OPENAI_API_KEY = os.getenv(\"OPENAI_API_KEY\")\n",
    "\n",
    "\n",
    "\n",
    "vectorizer = OpenAIEmbeddings()\n",
    "\n",
    "model = ChatOpenAI(openai_api_key=OPENAI_API_KEY, model=\"gpt-4-turbo\")\n",
    "\n",
    "chroma_db = Chroma(persist_directory=\"../chroma_db\", embedding_function=vectorizer)\n",
    "\n",
    "retriever = chroma_db.as_retriever(search_type=\"mmr\", search_kwargs={\"k\": 15, \"lambda_mult\": 0.25})\n",
    "\n",
    "template = \"\"\"\n",
    "            Answer the question based on the context below. If you can't \n",
    "            answer the question, reply \"I don't know\".\n",
    "\n",
    "            Context: {context}\n",
    "\n",
    "            Question: {question}\n",
    "            \"\"\"\n",
    "\n",
    "\n",
    "prompt = ChatPromptTemplate.from_template(template)\n",
    "\n",
    "\n",
    "parser = StrOutputParser()\n",
    "\n",
    "chain = {\"context\": retriever, \"question\": RunnablePassthrough()} | prompt | model | parser\n"
   ]
  },
  {
   "cell_type": "markdown",
   "id": "f29b8e89",
   "metadata": {},
   "source": [
    "### Some questions"
   ]
  },
  {
   "cell_type": "code",
   "execution_count": 24,
   "id": "7b95799b",
   "metadata": {},
   "outputs": [
    {
     "data": {
      "text/plain": [
       "'Foreign exchange contracts are used by the Company as derivative instruments to hedge against fluctuations in foreign exchange rates. The Company may use forwards, options, or other instruments, which can be designated as cash flow hedges or fair value hedges, depending on their purpose and the nature of the exposure. These contracts are aimed at protecting gross margins from fluctuations in foreign exchange rates or to protect against the variability in future cash flows related to foreign currency-denominated term debt or marketable securities.\\n\\nAs of the end of September 2023, the notional amounts of the Company’s foreign exchange contracts designated as accounting hedges amounted to $74,730 million. Additionally, the Company held foreign exchange contracts not designated as accounting hedges with notional amounts totaling $104,777 million. These instruments help manage the risk associated with changes in exchange rates that could impact the Company’s financial performance, although they may not fully offset the financial impact of unfavorable movements in exchange rates.'"
      ]
     },
     "execution_count": 24,
     "metadata": {},
     "output_type": "execute_result"
    }
   ],
   "source": [
    "query = \"What can you tell me about foreign exchange contracts?\"\n",
    "\n",
    "chain.invoke(query)"
   ]
  },
  {
   "cell_type": "code",
   "execution_count": 25,
   "id": "33238e9b",
   "metadata": {},
   "outputs": [
    {
     "data": {
      "text/plain": [
       "'iPhone, Mac, iPad, Wearables, Home and Accessories, and Services.'"
      ]
     },
     "execution_count": 25,
     "metadata": {},
     "output_type": "execute_result"
    }
   ],
   "source": [
    "query = \"What are the main products?\"\n",
    "\n",
    "chain.invoke(query)"
   ]
  },
  {
   "cell_type": "code",
   "execution_count": 26,
   "id": "4e34a80a",
   "metadata": {},
   "outputs": [
    {
     "data": {
      "text/plain": [
       "'As described in Part I, Item 3 of the Form 10-K under the heading \"Legal Proceedings,\" the company is involved in several significant legal issues:\\n\\n1. **Epic Games Litigation**: Epic Games, Inc. filed a lawsuit against the company alleging violations of federal and state antitrust laws and California’s unfair competition law based on the operation of the company’s App Store. The U.S. District Court ruled mostly in favor of the company, but found certain App Store Review Guidelines violated California\\'s unfair competition law. An injunction was issued to prohibit the company from preventing developers from including external links in their apps for customer purchases outside of Apple in-app purchasing. The injunction, applicable to U.S. iOS and iPadOS App Store apps, is currently stayed pending an appeal to the U.S. Supreme Court.\\n\\n2. **Masimo Litigation**: Masimo Corporation and Cercacor Laboratories filed a complaint with the U.S. International Trade Commission (ITC), alleging infringement by the company’s Apple Watch of patents related to blood oxygen functionality. The ITC issued a limited exclusion order against importation and sales in the U.S. of certain Apple Watch models, which is currently stayed pending the end of the administrative review period and the company\\'s planned appeal.\\n\\n3. **General Legal Risks**: The company is also subject to other unresolved legal proceedings and claims arising in the ordinary course of business. While some matters were settled in the fourth quarter of 2023 without a material impact on the company\\'s financial condition or operating results, the outcome of ongoing litigation remains uncertain and could potentially have adverse effects if resolved unfavorably. \\n\\nThese legal proceedings highlight the inherent uncertainties of litigation and government investigations, which can have materially adverse impacts on the company\\'s business, reputation, results of operations, and financial condition.'"
      ]
     },
     "execution_count": 26,
     "metadata": {},
     "output_type": "execute_result"
    }
   ],
   "source": [
    "query = \"What can you tell me about legal proceedings?\"\n",
    "\n",
    "chain.invoke(query)"
   ]
  },
  {
   "cell_type": "code",
   "execution_count": 27,
   "id": "9aff9478",
   "metadata": {},
   "outputs": [
    {
     "data": {
      "text/plain": [
       "'The company’s business and reputation are impacted by information technology system failures and network disruptions in several ways. Such failures or disruptions can adversely impact the company by preventing access to the company’s online services, interfering with customer transactions, or impeding the manufacturing and shipping of the company’s products. These events could materially adversely affect the company’s business, reputation, results of operations, and financial condition.'"
      ]
     },
     "execution_count": 27,
     "metadata": {},
     "output_type": "execute_result"
    }
   ],
   "source": [
    "query = \"\"\"\n",
    "        How the company’s business and reputation \n",
    "        are impacted by information technology system failures and network disruptions?\n",
    "        \"\"\"\n",
    "\n",
    "\n",
    "chain.invoke(query)"
   ]
  }
 ],
 "metadata": {
  "kernelspec": {
   "display_name": "ia",
   "language": "python",
   "name": "ia"
  },
  "language_info": {
   "codemirror_mode": {
    "name": "ipython",
    "version": 3
   },
   "file_extension": ".py",
   "mimetype": "text/x-python",
   "name": "python",
   "nbconvert_exporter": "python",
   "pygments_lexer": "ipython3",
   "version": "3.9.19"
  },
  "toc": {
   "base_numbering": 1,
   "nav_menu": {},
   "number_sections": false,
   "sideBar": true,
   "skip_h1_title": true,
   "title_cell": "Table of Contents",
   "title_sidebar": "Contents",
   "toc_cell": true,
   "toc_position": {
    "height": "598px",
    "left": "86px",
    "top": "111.141px",
    "width": "302.391px"
   },
   "toc_section_display": true,
   "toc_window_display": true
  }
 },
 "nbformat": 4,
 "nbformat_minor": 5
}
