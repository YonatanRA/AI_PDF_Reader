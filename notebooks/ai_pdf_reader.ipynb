{
 "cells": [
  {
   "cell_type": "markdown",
   "id": "a3228f5d",
   "metadata": {},
   "source": [
    "# AI PDF Reader Assistant"
   ]
  },
  {
   "cell_type": "markdown",
   "id": "23109b2b",
   "metadata": {
    "toc": true
   },
   "source": [
    "<h1>Table of Contents<span class=\"tocSkip\"></span></h1>\n",
    "<div class=\"toc\"><ul class=\"toc-item\"><li><span><a href=\"#1.-OpenAI-API-KEY\" data-toc-modified-id=\"1.-OpenAI-API-KEY-1\">1. OpenAI API KEY</a></span></li><li><span><a href=\"#2.-Testing-GPT4-from-LangChain\" data-toc-modified-id=\"2.-Testing-GPT4-from-LangChain-2\">2. Testing GPT4 from LangChain</a></span></li><li><span><a href=\"#3.-Loading-PDF-file\" data-toc-modified-id=\"3.-Loading-PDF-file-3\">3. Loading PDF file</a></span></li><li><span><a href=\"#4.-Chunks\" data-toc-modified-id=\"4.-Chunks-4\">4. Chunks</a></span></li><li><span><a href=\"#5.-Embedding-Model\" data-toc-modified-id=\"5.-Embedding-Model-5\">5. Embedding Model</a></span></li><li><span><a href=\"#6.-Store-in-ChromaDB\" data-toc-modified-id=\"6.-Store-in-ChromaDB-6\">6. Store in ChromaDB</a></span></li><li><span><a href=\"#7.-Load-from-storage\" data-toc-modified-id=\"7.-Load-from-storage-7\">7. Load from storage</a></span></li><li><span><a href=\"#8.-Prompt-template\" data-toc-modified-id=\"8.-Prompt-template-8\">8. Prompt template</a></span></li><li><span><a href=\"#9.-Chain\" data-toc-modified-id=\"9.-Chain-9\">9. Chain</a></span></li><li><span><a href=\"#10.-Code-Summary\" data-toc-modified-id=\"10.-Code-Summary-10\">10. Code Summary</a></span></li></ul></div>"
   ]
  },
  {
   "cell_type": "markdown",
   "id": "300ab8f7",
   "metadata": {},
   "source": [
    "## 1. OpenAI API KEY\n",
    "\n",
    "To carry out this project, we will need an API KEY from OpenAI to use the GPT-4 Turbo model. This API KEY can be obtained at https://platform.openai.com/api-keys. It is only displayed once, so it must be saved at the moment it is obtained. Of course, we will need to create an account to get it.\n",
    "\n",
    "We store the API KEY in a `.env` file to load it with the dotenv library and use it as an environment variable. This file is added to the `.gitignore` to ensure that it cannot be seen if we upload the code to GitHub, for example."
   ]
  },
  {
   "cell_type": "code",
   "execution_count": 1,
   "id": "853b0f97",
   "metadata": {},
   "outputs": [],
   "source": [
    "# import API KEY\n",
    "\n",
    "import os                           # operating system library\n",
    "from dotenv import load_dotenv      # load environment variables  \n",
    "\n",
    "\n",
    "load_dotenv()\n",
    "\n",
    "\n",
    "OPENAI_API_KEY = os.getenv(\"OPENAI_API_KEY\")"
   ]
  },
  {
   "cell_type": "markdown",
   "id": "2ba35029",
   "metadata": {},
   "source": [
    "## 2. Testing GPT4 from LangChain\n",
    "\n",
    "We are going to test the connection from LangChain to the GPT-4 model. We´ll just ask who the Apple's CEO is."
   ]
  },
  {
   "cell_type": "code",
   "execution_count": 2,
   "id": "649d653b",
   "metadata": {},
   "outputs": [
    {
     "data": {
      "text/plain": [
       "\"As of my last update in 2023, Apple's CEO is Tim Cook. He has held the position since August 2011, succeeding Steve Jobs.\""
      ]
     },
     "execution_count": 2,
     "metadata": {},
     "output_type": "execute_result"
    }
   ],
   "source": [
    "from langchain_openai.chat_models import ChatOpenAI   # LangChain connection to OpenAI\n",
    "\n",
    "model = ChatOpenAI(openai_api_key=OPENAI_API_KEY, model=\"gpt-4-turbo\")\n",
    "\n",
    "response = model.invoke(\"Who is Apple's CEO?\")\n",
    "\n",
    "response.content"
   ]
  },
  {
   "cell_type": "markdown",
   "id": "a565a3ea",
   "metadata": {},
   "source": [
    "## 3. Loading PDF file\n",
    "\n",
    "Now, we load the [2023 Apple's Form 10-K](https://s2.q4cdn.com/470004039/files/doc_earnings/2023/q4/filing/_10-K-Q4-2023-As-Filed.pdf) PDF file previously downloaded. A 10-K is a comprehensive report filed annually by a publicly-traded company about its financial performance and is required by the U.S. Securities and Exchange Commission (SEC). The report contains much more detail than a company's annual report, which is sent to its shareholders before an annual meeting to elect company directors."
   ]
  },
  {
   "cell_type": "code",
   "execution_count": 3,
   "id": "1bfeb153",
   "metadata": {},
   "outputs": [
    {
     "data": {
      "text/plain": [
       "['_10-K-Q4-2023-As-Filed.pdf']"
      ]
     },
     "execution_count": 3,
     "metadata": {},
     "output_type": "execute_result"
    }
   ],
   "source": [
    "os.listdir(\"../pdfs\")"
   ]
  },
  {
   "cell_type": "code",
   "execution_count": 4,
   "id": "d1922825",
   "metadata": {},
   "outputs": [],
   "source": [
    "from langchain_community.document_loaders import PyPDFDirectoryLoader"
   ]
  },
  {
   "cell_type": "code",
   "execution_count": 5,
   "id": "21f10280",
   "metadata": {},
   "outputs": [],
   "source": [
    "# loads PDF file page by page\n",
    "\n",
    "loader = PyPDFDirectoryLoader(\"../pdfs/\")\n",
    "\n",
    "pages = loader.load()"
   ]
  },
  {
   "cell_type": "code",
   "execution_count": 6,
   "id": "629e2b9c",
   "metadata": {},
   "outputs": [
    {
     "data": {
      "text/plain": [
       "80"
      ]
     },
     "execution_count": 6,
     "metadata": {},
     "output_type": "execute_result"
    }
   ],
   "source": [
    "len(pages)"
   ]
  },
  {
   "cell_type": "code",
   "execution_count": 7,
   "id": "de3a3b8d",
   "metadata": {},
   "outputs": [
    {
     "data": {
      "text/plain": [
       "Document(page_content='UNITED STATES\\nSECURITIES AND EXCHANGE COMMISSION\\nWashington, D.C. 20549\\nFORM 10-K\\n(Mark One)\\n☒    ANNUAL REPORT PURSUANT TO SECTION 13 OR 15(d) OF THE SECURITIES EXCHANGE ACT OF 1934\\nFor the fiscal year ended September\\xa030, 2023\\nor\\n☐    TRANSITION REPORT PURSUANT TO SECTION 13 OR 15(d) OF THE SECURITIES EXCHANGE ACT OF 1934\\nFor the transition period from \\xa0\\xa0\\xa0\\xa0\\xa0\\xa0\\xa0\\xa0\\xa0\\xa0\\xa0\\xa0  to \\xa0\\xa0\\xa0\\xa0\\xa0\\xa0\\xa0\\xa0\\xa0\\xa0\\xa0\\xa0 .\\nCommission File Number: 001-36743\\nApple Inc.\\n(Exact name of Registrant as specified in its charter)\\nCalifornia 94-2404110\\n(State or other jurisdiction\\nof incorporation or organization)(I.R.S. Employer Identification No.)\\nOne Apple Park Way\\nCupertino , California 95014\\n(Address of principal executive offices) (Zip Code)\\n(408) 996-1010\\n(Registrant’s telephone number, including area code)\\nSecurities registered pursuant to Section 12(b) of the Act:\\nTitle of each classTrading \\nsymbol(s) Name of each exchange on which registered\\nCommon Stock, $0.00001  par value per share AAPL The Nasdaq Stock Market LLC\\n1.375% Notes due 2024 — The Nasdaq Stock Market LLC\\n0.000% Notes due 2025 — The Nasdaq Stock Market LLC\\n0.875% Notes due 2025 — The Nasdaq Stock Market LLC\\n1.625% Notes due 2026 — The Nasdaq Stock Market LLC\\n2.000% Notes due 2027 — The Nasdaq Stock Market LLC\\n1.375% Notes due 2029 — The Nasdaq Stock Market LLC\\n3.050% Notes due 2029 — The Nasdaq Stock Market LLC\\n0.500% Notes due 2031 — The Nasdaq Stock Market LLC\\n3.600% Notes due 2042 — The Nasdaq Stock Market LLC\\nSecurities registered pursuant to Section 12(g) of the Act:  None\\nIndicate by check mark if the Registrant is a well-known seasoned issuer, as defined in Rule 405 of the Securities Act.\\nYes\\xa0\\xa0☒\\xa0\\xa0\\xa0\\xa0\\xa0No\\xa0\\xa0☐\\nIndicate by check mark if the Registrant is not required to file reports pursuant to Section 13 or Section 15(d) of the Act.\\nYes\\xa0\\xa0☐\\xa0\\xa0\\xa0\\xa0\\xa0No\\xa0\\xa0☒', metadata={'source': '../pdfs/_10-K-Q4-2023-As-Filed.pdf', 'page': 0})"
      ]
     },
     "execution_count": 7,
     "metadata": {},
     "output_type": "execute_result"
    }
   ],
   "source": [
    "pages[0]  # first pdf page"
   ]
  },
  {
   "cell_type": "markdown",
   "id": "cbdf686d",
   "metadata": {},
   "source": [
    "## 4. Chunks\n",
    "\n",
    "The `PyPDFDirectoryLoader` uses a TextSplitter instance, specifically the `RecursiveCharacterTextSplitter` by default, to handle the document splitting. This approach helps in breaking down large PDF files or collections of files into manageable chunks for further processing. The loader ensures that each chunk is manageable and retains necessary metadata, like page numbers, which are important for referencing and maintaining the integrity of the source documents during processing."
   ]
  },
  {
   "cell_type": "code",
   "execution_count": 8,
   "id": "2ad7f54b",
   "metadata": {},
   "outputs": [],
   "source": [
    "chunks = loader.load_and_split()"
   ]
  },
  {
   "cell_type": "code",
   "execution_count": 9,
   "id": "b1d95544",
   "metadata": {},
   "outputs": [
    {
     "data": {
      "text/plain": [
       "106"
      ]
     },
     "execution_count": 9,
     "metadata": {},
     "output_type": "execute_result"
    }
   ],
   "source": [
    "len(chunks)"
   ]
  },
  {
   "cell_type": "code",
   "execution_count": 10,
   "id": "ff5fcc17",
   "metadata": {},
   "outputs": [
    {
     "data": {
      "text/plain": [
       "Document(page_content='The gross fair values of the Company’s derivative assets and liabilities as of September\\xa024, 2022  were as follows (in millions):\\n2022\\nFair Value of\\nDerivatives Designated\\nas Accounting HedgesFair Value of\\nDerivatives Not Designated\\nas Accounting HedgesTotal\\nFair Value\\nDerivative assets (1):\\nForeign exchange contracts $ 4,317 $ 2,819 $ 7,136 \\nDerivative liabilities (2):\\nForeign exchange contracts $ 2,205 $ 2,547 $ 4,752 \\nInterest rate contracts $ 1,367 $ — $ 1,367 \\n(1) Derivative assets are measured using Level 2 fair value inputs and are included in other current assets and other non-\\ncurrent assets in the Consolidated Balance Sheet.\\n(2) Derivative liabilities are measured using Level 2 fair value inputs and are included in other current liabilities and other non-\\ncurrent liabilities in the Consolidated Balance Sheet.\\nThe derivative assets above represent the Company’s gross credit exposure if all counterparties failed to perform. To mitigate \\ncredit risk, the Company generally uses collateral security arrangements that provide for collateral to be received or posted when \\nthe net fair values of certain derivatives fluctuate from contractually established thresholds. To further limit credit risk, the \\nCompany generally uses master netting arrangements with the respective counterparties to the Company’s derivative contracts, \\nunder which the Company is allowed to settle transactions with a single net amount payable by one party to the other. As of \\nSeptember\\xa024, 2022 , the potential effects of these rights of set-off associated with the Company’s derivative contracts, including \\nthe effects of collateral, would be a reduction to both derivative assets and derivative liabilities of $7.8 billion , resulting in a net \\nderivative asset of $412 million .\\nThe carrying amounts of the Company’s hedged items in fair value hedges as of September\\xa030, 2023  and September\\xa024, 2022  \\nwere as follows (in millions):\\n2023 2022\\nHedged assets/(liabilities):\\nCurrent and non-current marketable securities $ 14,433 $ 13,378 \\nCurrent and non-current term debt $ (18,247) $ (18,739) \\nAccounts Receivable\\nTrade Receivables\\nAs of September 24, 2022, the Company had one customer that represented 10% or more of total trade receivables, which \\naccounted for 10%. The Company’s third-party cellular network carriers accounted for 41% and 44% of total trade receivables as \\nof September\\xa030, 2023  and September\\xa024, 2022 , respectively. The Company requires third-party credit support or collateral from \\ncertain customers to limit credit risk.\\nVendor Non-Trade Receivables\\nThe Company has non-trade receivables from certain of its manufacturing vendors resulting from the sale of components to \\nthese vendors who manufacture subassemblies or assemble final products for the Company. The Company purchases these \\ncomponents directly from suppliers. The Company does not reflect the sale of these components in products net sales. Rather, \\nthe Company recognizes any gain on these sales as a reduction of products cost of sales when the related final products are \\nsold by the Company. As of September\\xa030, 2023 , the Company had two vendors that individually represented 10% or more of \\ntotal vendor non-trade receivables, which accounted for 48% and 23%. As of September\\xa0 24, 2022 , the Company had two \\nvendors that individually represented 10% or more of total vendor n on-trade re ceivables, which accounted for 54% and 13%.\\nApple Inc. | 2023  Form 10-K | 38', metadata={'source': '../pdfs/_10-K-Q4-2023-As-Filed.pdf', 'page': 40})"
      ]
     },
     "execution_count": 10,
     "metadata": {},
     "output_type": "execute_result"
    }
   ],
   "source": [
    "chunks[55]"
   ]
  },
  {
   "cell_type": "markdown",
   "id": "bb5b1611",
   "metadata": {},
   "source": [
    "## 5. Embedding Model\n",
    "\n",
    "Embeddings transform data, especially textual data, into a format, usually a vector of numbers, that ML algorithms can process effectively. These embeddings capture the contextual relationships and semantic meanings of words, phrases, or documents, enabling various applications in AI."
   ]
  },
  {
   "cell_type": "code",
   "execution_count": 11,
   "id": "5e43a752",
   "metadata": {},
   "outputs": [],
   "source": [
    "from langchain_openai.embeddings import OpenAIEmbeddings\n",
    "\n",
    "\n",
    "vectorizer = OpenAIEmbeddings()"
   ]
  },
  {
   "cell_type": "markdown",
   "id": "ff3dabff",
   "metadata": {},
   "source": [
    "## 6. Store in ChromaDB\n",
    "\n",
    "Chroma DB is an open-source vector database designed to store and retrieve vector embeddings efficiently. It is particularly useful for enhancing LLMs by providing relevant context to user inquiries. Chroma DB allows for the storage of embeddings along with metadata, which can later be utilized by LLMs or for semantic search engines over text data.\n",
    "\n",
    "Now, we store the chunks in the vector database."
   ]
  },
  {
   "cell_type": "code",
   "execution_count": 12,
   "id": "bd4bee66",
   "metadata": {},
   "outputs": [],
   "source": [
    "from langchain_community.vectorstores import Chroma\n",
    "\n",
    "chroma_db = Chroma.from_documents(chunks, vectorizer, persist_directory=\"../chroma_db\")"
   ]
  },
  {
   "cell_type": "markdown",
   "id": "ee6bfca0",
   "metadata": {},
   "source": [
    "## 7. Load from storage\n",
    "\n",
    "Once the data is saved, we can perform a search for the most relevant documents based on our query. We can search directly with similarity search, based in cosine similarity, or we can instantiate a retriever object for later use.\n",
    "\n",
    "By default, the type of search conducted by the retriever, `search_type`, is by similarity and it returns the most relevant results according to that similarity. We can also use similarity with a threshold to retrieve documents that exceed a certain level of similarity to our query. The retriever also features an algorithm called MMR (maximal marginal relevance). The maximal marginal relevance algorithm selects documents based on a combination of which documents are most similar to the queries, while also optimizing for diversity. It does this by finding examples with embeddings that have the highest cosine similarity to the inputs, and then iteratively adds them while applying a penalty for closeness to already selected examples.\n",
    "\n",
    "We will use the MMR algorithm to return 15 documents. The `lambda_mult` parameter refers to the diversity of the results returned by MMR, with 1 being for minimal diversity and 0 for maximum. The default is 0.5. We will ask for a bit more diversity in its response."
   ]
  },
  {
   "cell_type": "code",
   "execution_count": 13,
   "id": "114f0036",
   "metadata": {},
   "outputs": [
    {
     "data": {
      "text/plain": [
       "10"
      ]
     },
     "execution_count": 13,
     "metadata": {},
     "output_type": "execute_result"
    }
   ],
   "source": [
    "query = \"What can you tell me about foreign exchange contracts?\"\n",
    "\n",
    "chroma_db = Chroma(persist_directory=\"../chroma_db\", embedding_function=vectorizer)\n",
    "\n",
    "docs = chroma_db.similarity_search(query, k=10)\n",
    "\n",
    "len(docs)"
   ]
  },
  {
   "cell_type": "code",
   "execution_count": 14,
   "id": "cc727386",
   "metadata": {
    "scrolled": false
   },
   "outputs": [
    {
     "data": {
      "text/plain": [
       "Document(page_content='The gross fair values of the Company’s derivative assets and liabilities as of September\\xa024, 2022  were as follows (in millions):\\n2022\\nFair Value of\\nDerivatives Designated\\nas Accounting HedgesFair Value of\\nDerivatives Not Designated\\nas Accounting HedgesTotal\\nFair Value\\nDerivative assets (1):\\nForeign exchange contracts $ 4,317 $ 2,819 $ 7,136 \\nDerivative liabilities (2):\\nForeign exchange contracts $ 2,205 $ 2,547 $ 4,752 \\nInterest rate contracts $ 1,367 $ — $ 1,367 \\n(1) Derivative assets are measured using Level 2 fair value inputs and are included in other current assets and other non-\\ncurrent assets in the Consolidated Balance Sheet.\\n(2) Derivative liabilities are measured using Level 2 fair value inputs and are included in other current liabilities and other non-\\ncurrent liabilities in the Consolidated Balance Sheet.\\nThe derivative assets above represent the Company’s gross credit exposure if all counterparties failed to perform. To mitigate \\ncredit risk, the Company generally uses collateral security arrangements that provide for collateral to be received or posted when \\nthe net fair values of certain derivatives fluctuate from contractually established thresholds. To further limit credit risk, the \\nCompany generally uses master netting arrangements with the respective counterparties to the Company’s derivative contracts, \\nunder which the Company is allowed to settle transactions with a single net amount payable by one party to the other. As of \\nSeptember\\xa024, 2022 , the potential effects of these rights of set-off associated with the Company’s derivative contracts, including \\nthe effects of collateral, would be a reduction to both derivative assets and derivative liabilities of $7.8 billion , resulting in a net \\nderivative asset of $412 million .\\nThe carrying amounts of the Company’s hedged items in fair value hedges as of September\\xa030, 2023  and September\\xa024, 2022  \\nwere as follows (in millions):\\n2023 2022\\nHedged assets/(liabilities):\\nCurrent and non-current marketable securities $ 14,433 $ 13,378 \\nCurrent and non-current term debt $ (18,247) $ (18,739) \\nAccounts Receivable\\nTrade Receivables\\nAs of September 24, 2022, the Company had one customer that represented 10% or more of total trade receivables, which \\naccounted for 10%. The Company’s third-party cellular network carriers accounted for 41% and 44% of total trade receivables as \\nof September\\xa030, 2023  and September\\xa024, 2022 , respectively. The Company requires third-party credit support or collateral from \\ncertain customers to limit credit risk.\\nVendor Non-Trade Receivables\\nThe Company has non-trade receivables from certain of its manufacturing vendors resulting from the sale of components to \\nthese vendors who manufacture subassemblies or assemble final products for the Company. The Company purchases these \\ncomponents directly from suppliers. The Company does not reflect the sale of these components in products net sales. Rather, \\nthe Company recognizes any gain on these sales as a reduction of products cost of sales when the related final products are \\nsold by the Company. As of September\\xa030, 2023 , the Company had two vendors that individually represented 10% or more of \\ntotal vendor non-trade receivables, which accounted for 48% and 23%. As of September\\xa0 24, 2022 , the Company had two \\nvendors that individually represented 10% or more of total vendor n on-trade re ceivables, which accounted for 54% and 13%.\\nApple Inc. | 2023  Form 10-K | 38', metadata={'page': 40, 'source': '../pdfs/_10-K-Q4-2023-As-Filed.pdf'})"
      ]
     },
     "execution_count": 14,
     "metadata": {},
     "output_type": "execute_result"
    }
   ],
   "source": [
    "docs[5]"
   ]
  },
  {
   "cell_type": "code",
   "execution_count": 15,
   "id": "a7764d0e",
   "metadata": {},
   "outputs": [],
   "source": [
    "retriever = chroma_db.as_retriever(search_type=\"mmr\", search_kwargs={'k': 15, 'lambda_mult': 0.25})"
   ]
  },
  {
   "cell_type": "code",
   "execution_count": 16,
   "id": "5f00fd21",
   "metadata": {},
   "outputs": [
    {
     "data": {
      "text/plain": [
       "VectorStoreRetriever(tags=['Chroma', 'OpenAIEmbeddings'], vectorstore=<langchain_community.vectorstores.chroma.Chroma object at 0x10b19c280>, search_type='mmr', search_kwargs={'k': 15, 'lambda_mult': 0.25})"
      ]
     },
     "execution_count": 16,
     "metadata": {},
     "output_type": "execute_result"
    }
   ],
   "source": [
    "retriever"
   ]
  },
  {
   "cell_type": "markdown",
   "id": "7d35d696",
   "metadata": {},
   "source": [
    "## 8. Prompt template\n",
    "\n",
    "Prompt templates are predefined recipes for generating instructions for language models.\n",
    "\n",
    "A template can include instructions, context, and specific questions suitable for a given task. LangChain provides tools for creating and working with instruction templates and also strives to create model-agnostic templates to facilitate the reuse of existing templates across different language models."
   ]
  },
  {
   "cell_type": "code",
   "execution_count": 17,
   "id": "5aef04e1",
   "metadata": {},
   "outputs": [],
   "source": [
    "from langchain.prompts import ChatPromptTemplate"
   ]
  },
  {
   "cell_type": "code",
   "execution_count": 18,
   "id": "8d5d0e71",
   "metadata": {},
   "outputs": [],
   "source": [
    "template = \"\"\"\n",
    "            Answer the question based on the context below. If you can't \n",
    "            answer the question, reply \"I don't know\".\n",
    "\n",
    "            Context: {context}\n",
    "\n",
    "            Question: {question}\n",
    "            \"\"\"\n",
    "\n",
    "\n",
    "prompt = ChatPromptTemplate.from_template(template)"
   ]
  },
  {
   "cell_type": "markdown",
   "id": "76acea77",
   "metadata": {},
   "source": [
    "## 9. Chain\n",
    "\n",
    "A \"chain\" refers to a sequence of components or steps that are linked together to perform a specific task or set of tasks related to AI or LLMs operations. LangChain is a library designed to facilitate the building and deploying of language applications by chaining together different components such as models, databases, and custom logic. Each component in the chain handles a specific part of the task, and the output of one component serves as the input for the next, creating a seamless workflow that leverages both AI and traditional software methodologies. A chain effectively acts as a pipeline, where data flows through each component in the chain, being transformed, enhanced, or utilized at each step.\n",
    "\n",
    "In LangChain, the StrOutputParser parses the model's output directly into a string format. We will use this parser when creating the LangChain sequence; it will be an additional link in the chain, allowing us to directly obtain the LLM's response in string format.\n",
    "\n",
    "RunnablePassthrough allows inputs to pass through unchanged."
   ]
  },
  {
   "cell_type": "code",
   "execution_count": 19,
   "id": "71330acb",
   "metadata": {},
   "outputs": [],
   "source": [
    "from langchain_core.output_parsers import StrOutputParser\n",
    "\n",
    "parser = StrOutputParser()"
   ]
  },
  {
   "cell_type": "code",
   "execution_count": 20,
   "id": "ad11bc9c",
   "metadata": {},
   "outputs": [],
   "source": [
    "from langchain_core.runnables import RunnablePassthrough"
   ]
  },
  {
   "cell_type": "code",
   "execution_count": 21,
   "id": "0b9a3cef",
   "metadata": {},
   "outputs": [
    {
     "data": {
      "text/plain": [
       "'What can you tell me about foreign exchange contracts?'"
      ]
     },
     "execution_count": 21,
     "metadata": {},
     "output_type": "execute_result"
    }
   ],
   "source": [
    "query"
   ]
  },
  {
   "cell_type": "code",
   "execution_count": 22,
   "id": "30c6df44",
   "metadata": {},
   "outputs": [
    {
     "data": {
      "text/plain": [
       "\"Foreign exchange contracts are used by the Company as a form of derivative instrument to manage its exposure to fluctuations in foreign exchange rates. These contracts help to hedge against potential adverse movements in currency exchange rates that could impact the Company's financial performance. The types of foreign exchange derivatives mentioned include forward and option contracts. These instruments are part of the Company's broader strategy to mitigate the financial risks associated with changes in exchange rates. For instance, the fair values of these derivatives as of September 24, 2022, were reported with derivative assets in foreign exchange contracts amounting to $4,317 million designated as accounting hedges and $2,819 million not designated as accounting hedges, and derivative liabilities in foreign exchange contracts were $2,205 million designated as accounting hedges and $2,547 million not designated as accounting hedges.\""
      ]
     },
     "execution_count": 22,
     "metadata": {},
     "output_type": "execute_result"
    }
   ],
   "source": [
    "chain = {\"context\": retriever, \"question\": RunnablePassthrough()} | prompt | model | parser\n",
    "\n",
    "\n",
    "response = chain.invoke(query)\n",
    "\n",
    "\n",
    "response"
   ]
  },
  {
   "cell_type": "markdown",
   "id": "45626a7a",
   "metadata": {},
   "source": [
    "## 10. Code Summary\n",
    "\n",
    "Step by step."
   ]
  },
  {
   "cell_type": "code",
   "execution_count": 23,
   "id": "94608d64",
   "metadata": {},
   "outputs": [],
   "source": [
    "import os                          \n",
    "from dotenv import load_dotenv      \n",
    "from langchain_openai.embeddings import OpenAIEmbeddings\n",
    "from langchain_openai.chat_models import ChatOpenAI   \n",
    "from langchain_community.vectorstores import Chroma\n",
    "from langchain.prompts import ChatPromptTemplate\n",
    "from langchain_core.output_parsers import StrOutputParser\n",
    "from langchain_core.runnables import RunnablePassthrough\n",
    "\n",
    "\n",
    "load_dotenv()\n",
    "\n",
    "\n",
    "OPENAI_API_KEY = os.getenv(\"OPENAI_API_KEY\")\n",
    "\n",
    "\n",
    "\n",
    "vectorizer = OpenAIEmbeddings()\n",
    "\n",
    "model = ChatOpenAI(openai_api_key=OPENAI_API_KEY, model=\"gpt-4-turbo\")\n",
    "\n",
    "chroma_db = Chroma(persist_directory=\"../chroma_db\", embedding_function=vectorizer)\n",
    "\n",
    "retriever = chroma_db.as_retriever(search_type=\"mmr\", search_kwargs={'k': 15, 'lambda_mult': 0.25})\n",
    "\n",
    "template = \"\"\"\n",
    "            Answer the question based on the context below. If you can't \n",
    "            answer the question, reply \"I don't know\".\n",
    "\n",
    "            Context: {context}\n",
    "\n",
    "            Question: {question}\n",
    "            \"\"\"\n",
    "\n",
    "\n",
    "prompt = ChatPromptTemplate.from_template(template)\n",
    "\n",
    "\n",
    "parser = StrOutputParser()\n",
    "\n",
    "chain = {\"context\": retriever, \"question\": RunnablePassthrough()} | prompt | model | parser\n"
   ]
  },
  {
   "cell_type": "code",
   "execution_count": 24,
   "id": "84c728d8",
   "metadata": {},
   "outputs": [
    {
     "data": {
      "text/plain": [
       "'Foreign exchange contracts are utilized by the Company as derivative instruments to manage exposure to fluctuations in foreign exchange rates. These contracts include both foreign exchange forward and option contracts. The Company uses these derivatives to hedge against adverse movements in exchange rates that could negatively impact its financial results, specifically its gross margins and net sales, when expressed in U.S. dollars. However, the effectiveness of these hedging activities may not fully offset the financial effects of unfavorable movements in foreign exchange rates during the periods the hedges are in place. The Company also faces risks related to the fair values of these contracts, which can be significantly affected by changes in exchange rates.'"
      ]
     },
     "execution_count": 24,
     "metadata": {},
     "output_type": "execute_result"
    }
   ],
   "source": [
    "query = \"What can you tell me about foreign exchange contracts?\"\n",
    "\n",
    "chain.invoke(query)"
   ]
  },
  {
   "cell_type": "code",
   "execution_count": 25,
   "id": "3ac39264",
   "metadata": {},
   "outputs": [
    {
     "data": {
      "text/plain": [
       "'The main products of the Company are smartphones, personal computers, tablets, wearables, and accessories.'"
      ]
     },
     "execution_count": 25,
     "metadata": {},
     "output_type": "execute_result"
    }
   ],
   "source": [
    "query = \"What are the main products?\"\n",
    "\n",
    "chain.invoke(query)"
   ]
  },
  {
   "cell_type": "code",
   "execution_count": 26,
   "id": "a6a646cb",
   "metadata": {},
   "outputs": [
    {
     "data": {
      "text/plain": [
       "\"Epic Games filed a lawsuit against Apple Inc. in the U.S. District Court for the Northern District of California, alleging violations of federal and state antitrust laws and California’s unfair competition law due to Apple's operation of its App Store. The District Court ruled mostly in favor of Apple on September 10, 2021, except for finding certain App Store Review Guidelines in violation of California’s law, leading to an injunction against Apple's prohibition of external purchasing links in apps. The U.S. Court of Appeals for the Ninth Circuit affirmed this ruling, and after further appeals were denied, Apple's motion to stay enforcement of the injunction was granted pending a potential U.S. Supreme Court appeal.\\n\\nAdditionally, Masimo Corporation and Cercacor Laboratories filed a complaint with the U.S. International Trade Commission (ITC) alleging that Apple infringed on patents related to the blood oxygen feature in Apple Watch Series 6 and 7. The ITC issued a limited exclusion order prohibiting the importation and sale in the U.S. of certain Apple Watch models, including Series 9 and Ultra 2, effective after December 25, 2023, pending administrative review. Apple intends to appeal this order and seek a stay pending the appeal.\""
      ]
     },
     "execution_count": 26,
     "metadata": {},
     "output_type": "execute_result"
    }
   ],
   "source": [
    "query = \"What can you tell me about legal proceedings?\"\n",
    "\n",
    "chain.invoke(query)"
   ]
  },
  {
   "cell_type": "code",
   "execution_count": null,
   "id": "3724d255",
   "metadata": {},
   "outputs": [],
   "source": []
  }
 ],
 "metadata": {
  "kernelspec": {
   "display_name": "ia",
   "language": "python",
   "name": "ia"
  },
  "language_info": {
   "codemirror_mode": {
    "name": "ipython",
    "version": 3
   },
   "file_extension": ".py",
   "mimetype": "text/x-python",
   "name": "python",
   "nbconvert_exporter": "python",
   "pygments_lexer": "ipython3",
   "version": "3.9.19"
  },
  "toc": {
   "base_numbering": 1,
   "nav_menu": {},
   "number_sections": false,
   "sideBar": true,
   "skip_h1_title": true,
   "title_cell": "Table of Contents",
   "title_sidebar": "Contents",
   "toc_cell": true,
   "toc_position": {
    "height": "598px",
    "left": "65px",
    "top": "223.141px",
    "width": "302.398px"
   },
   "toc_section_display": true,
   "toc_window_display": true
  }
 },
 "nbformat": 4,
 "nbformat_minor": 5
}
