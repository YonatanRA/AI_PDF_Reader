{
 "cells": [
  {
   "cell_type": "markdown",
   "id": "f5b29714",
   "metadata": {},
   "source": [
    "# AI PDF Reader Assistant"
   ]
  },
  {
   "cell_type": "markdown",
   "id": "d10a0296",
   "metadata": {
    "toc": true
   },
   "source": [
    "<h1>Table of Contents<span class=\"tocSkip\"></span></h1>\n",
    "<div class=\"toc\"><ul class=\"toc-item\"><li><span><a href=\"#1.-OpenAI-API-KEY\" data-toc-modified-id=\"1.-OpenAI-API-KEY-1\">1. OpenAI API KEY</a></span></li><li><span><a href=\"#2.-Testing-GPT4-from-LangChain\" data-toc-modified-id=\"2.-Testing-GPT4-from-LangChain-2\">2. Testing GPT4 from LangChain</a></span></li><li><span><a href=\"#3.-Loading-PDF-file\" data-toc-modified-id=\"3.-Loading-PDF-file-3\">3. Loading PDF file</a></span></li><li><span><a href=\"#4.-Chunks\" data-toc-modified-id=\"4.-Chunks-4\">4. Chunks</a></span></li><li><span><a href=\"#5.-Embedding-Model\" data-toc-modified-id=\"5.-Embedding-Model-5\">5. Embedding Model</a></span></li><li><span><a href=\"#6.-Store-in-ChromaDB\" data-toc-modified-id=\"6.-Store-in-ChromaDB-6\">6. Store in ChromaDB</a></span></li><li><span><a href=\"#7.-Load-from-storage\" data-toc-modified-id=\"7.-Load-from-storage-7\">7. Load from storage</a></span></li><li><span><a href=\"#8.-Prompt-template\" data-toc-modified-id=\"8.-Prompt-template-8\">8. Prompt template</a></span></li><li><span><a href=\"#9.-Chain\" data-toc-modified-id=\"9.-Chain-9\">9. Chain</a></span></li><li><span><a href=\"#10.-Code-Summary\" data-toc-modified-id=\"10.-Code-Summary-10\">10. Code Summary</a></span></li></ul></div>"
   ]
  },
  {
   "cell_type": "markdown",
   "id": "27682368",
   "metadata": {},
   "source": [
    "## 1. OpenAI API KEY\n",
    "\n",
    "To carry out this project, we will need an API KEY from OpenAI to use the GPT-4 Turbo model. This API KEY can be obtained at https://platform.openai.com/api-keys. It is only displayed once, so it must be saved at the moment it is obtained. Of course, we will need to create an account to get it.\n",
    "\n",
    "We store the API KEY in a `.env` file to load it with the dotenv library and use it as an environment variable. This file is added to the `.gitignore` to ensure that it cannot be seen if we upload the code to GitHub, for example."
   ]
  },
  {
   "cell_type": "code",
   "execution_count": 1,
   "id": "e65279f8",
   "metadata": {},
   "outputs": [],
   "source": [
    "# import API KEY\n",
    "\n",
    "import os                           # operating system library\n",
    "from dotenv import load_dotenv      # load environment variables  \n",
    "\n",
    "\n",
    "load_dotenv()\n",
    "\n",
    "\n",
    "OPENAI_API_KEY = os.getenv(\"OPENAI_API_KEY\")"
   ]
  },
  {
   "cell_type": "markdown",
   "id": "440d23d3",
   "metadata": {},
   "source": [
    "## 2. Testing GPT4 from LangChain\n",
    "\n",
    "We are going to test the connection from LangChain to the GPT-4 model."
   ]
  },
  {
   "cell_type": "code",
   "execution_count": 2,
   "id": "c9f23552",
   "metadata": {},
   "outputs": [
    {
     "data": {
      "text/plain": [
       "\"As of my last update in 2023, Apple's CEO is Tim Cook. He has held the position since August 2011, succeeding Steve Jobs.\""
      ]
     },
     "execution_count": 2,
     "metadata": {},
     "output_type": "execute_result"
    }
   ],
   "source": [
    "from langchain_openai.chat_models import ChatOpenAI   # LangChain connection to OpenAI\n",
    "\n",
    "model = ChatOpenAI(openai_api_key=OPENAI_API_KEY, model=\"gpt-4-turbo\")\n",
    "\n",
    "response = model.invoke(\"Who is Apple's CEO?\")\n",
    "\n",
    "response.content"
   ]
  },
  {
   "cell_type": "markdown",
   "id": "0e2a203d",
   "metadata": {},
   "source": [
    "## 3. Loading PDF file"
   ]
  },
  {
   "cell_type": "code",
   "execution_count": 3,
   "id": "74cd9c32",
   "metadata": {},
   "outputs": [
    {
     "data": {
      "text/plain": [
       "['_10-K-Q4-2023-As-Filed.pdf']"
      ]
     },
     "execution_count": 3,
     "metadata": {},
     "output_type": "execute_result"
    }
   ],
   "source": [
    "os.listdir(\"../pdfs\")"
   ]
  },
  {
   "cell_type": "code",
   "execution_count": 4,
   "id": "52f33f2d",
   "metadata": {},
   "outputs": [],
   "source": [
    "from langchain_community.document_loaders import PyPDFDirectoryLoader"
   ]
  },
  {
   "cell_type": "code",
   "execution_count": 5,
   "id": "ad70c1a9",
   "metadata": {},
   "outputs": [],
   "source": [
    "# loads PDF file page by page\n",
    "\n",
    "loader = PyPDFDirectoryLoader(\"../pdfs/\")\n",
    "\n",
    "pages = loader.load()"
   ]
  },
  {
   "cell_type": "code",
   "execution_count": 6,
   "id": "4540dc8e",
   "metadata": {},
   "outputs": [
    {
     "data": {
      "text/plain": [
       "80"
      ]
     },
     "execution_count": 6,
     "metadata": {},
     "output_type": "execute_result"
    }
   ],
   "source": [
    "len(pages)"
   ]
  },
  {
   "cell_type": "code",
   "execution_count": 7,
   "id": "8525a4c4",
   "metadata": {},
   "outputs": [
    {
     "data": {
      "text/plain": [
       "Document(page_content='UNITED STATES\\nSECURITIES AND EXCHANGE COMMISSION\\nWashington, D.C. 20549\\nFORM 10-K\\n(Mark One)\\n☒    ANNUAL REPORT PURSUANT TO SECTION 13 OR 15(d) OF THE SECURITIES EXCHANGE ACT OF 1934\\nFor the fiscal year ended September\\xa030, 2023\\nor\\n☐    TRANSITION REPORT PURSUANT TO SECTION 13 OR 15(d) OF THE SECURITIES EXCHANGE ACT OF 1934\\nFor the transition period from \\xa0\\xa0\\xa0\\xa0\\xa0\\xa0\\xa0\\xa0\\xa0\\xa0\\xa0\\xa0  to \\xa0\\xa0\\xa0\\xa0\\xa0\\xa0\\xa0\\xa0\\xa0\\xa0\\xa0\\xa0 .\\nCommission File Number: 001-36743\\nApple Inc.\\n(Exact name of Registrant as specified in its charter)\\nCalifornia 94-2404110\\n(State or other jurisdiction\\nof incorporation or organization)(I.R.S. Employer Identification No.)\\nOne Apple Park Way\\nCupertino , California 95014\\n(Address of principal executive offices) (Zip Code)\\n(408) 996-1010\\n(Registrant’s telephone number, including area code)\\nSecurities registered pursuant to Section 12(b) of the Act:\\nTitle of each classTrading \\nsymbol(s) Name of each exchange on which registered\\nCommon Stock, $0.00001  par value per share AAPL The Nasdaq Stock Market LLC\\n1.375% Notes due 2024 — The Nasdaq Stock Market LLC\\n0.000% Notes due 2025 — The Nasdaq Stock Market LLC\\n0.875% Notes due 2025 — The Nasdaq Stock Market LLC\\n1.625% Notes due 2026 — The Nasdaq Stock Market LLC\\n2.000% Notes due 2027 — The Nasdaq Stock Market LLC\\n1.375% Notes due 2029 — The Nasdaq Stock Market LLC\\n3.050% Notes due 2029 — The Nasdaq Stock Market LLC\\n0.500% Notes due 2031 — The Nasdaq Stock Market LLC\\n3.600% Notes due 2042 — The Nasdaq Stock Market LLC\\nSecurities registered pursuant to Section 12(g) of the Act:  None\\nIndicate by check mark if the Registrant is a well-known seasoned issuer, as defined in Rule 405 of the Securities Act.\\nYes\\xa0\\xa0☒\\xa0\\xa0\\xa0\\xa0\\xa0No\\xa0\\xa0☐\\nIndicate by check mark if the Registrant is not required to file reports pursuant to Section 13 or Section 15(d) of the Act.\\nYes\\xa0\\xa0☐\\xa0\\xa0\\xa0\\xa0\\xa0No\\xa0\\xa0☒', metadata={'source': '../pdfs/_10-K-Q4-2023-As-Filed.pdf', 'page': 0})"
      ]
     },
     "execution_count": 7,
     "metadata": {},
     "output_type": "execute_result"
    }
   ],
   "source": [
    "pages[0]  # first pdf page"
   ]
  },
  {
   "cell_type": "markdown",
   "id": "fb536586",
   "metadata": {},
   "source": [
    "## 4. Chunks"
   ]
  },
  {
   "cell_type": "code",
   "execution_count": 8,
   "id": "469689db",
   "metadata": {},
   "outputs": [],
   "source": [
    "chunks = loader.load_and_split()"
   ]
  },
  {
   "cell_type": "code",
   "execution_count": 9,
   "id": "d04a341a",
   "metadata": {},
   "outputs": [
    {
     "data": {
      "text/plain": [
       "106"
      ]
     },
     "execution_count": 9,
     "metadata": {},
     "output_type": "execute_result"
    }
   ],
   "source": [
    "len(chunks)"
   ]
  },
  {
   "cell_type": "code",
   "execution_count": 10,
   "id": "06c0667a",
   "metadata": {},
   "outputs": [
    {
     "data": {
      "text/plain": [
       "Document(page_content='The gross fair values of the Company’s derivative assets and liabilities as of September\\xa024, 2022  were as follows (in millions):\\n2022\\nFair Value of\\nDerivatives Designated\\nas Accounting HedgesFair Value of\\nDerivatives Not Designated\\nas Accounting HedgesTotal\\nFair Value\\nDerivative assets (1):\\nForeign exchange contracts $ 4,317 $ 2,819 $ 7,136 \\nDerivative liabilities (2):\\nForeign exchange contracts $ 2,205 $ 2,547 $ 4,752 \\nInterest rate contracts $ 1,367 $ — $ 1,367 \\n(1) Derivative assets are measured using Level 2 fair value inputs and are included in other current assets and other non-\\ncurrent assets in the Consolidated Balance Sheet.\\n(2) Derivative liabilities are measured using Level 2 fair value inputs and are included in other current liabilities and other non-\\ncurrent liabilities in the Consolidated Balance Sheet.\\nThe derivative assets above represent the Company’s gross credit exposure if all counterparties failed to perform. To mitigate \\ncredit risk, the Company generally uses collateral security arrangements that provide for collateral to be received or posted when \\nthe net fair values of certain derivatives fluctuate from contractually established thresholds. To further limit credit risk, the \\nCompany generally uses master netting arrangements with the respective counterparties to the Company’s derivative contracts, \\nunder which the Company is allowed to settle transactions with a single net amount payable by one party to the other. As of \\nSeptember\\xa024, 2022 , the potential effects of these rights of set-off associated with the Company’s derivative contracts, including \\nthe effects of collateral, would be a reduction to both derivative assets and derivative liabilities of $7.8 billion , resulting in a net \\nderivative asset of $412 million .\\nThe carrying amounts of the Company’s hedged items in fair value hedges as of September\\xa030, 2023  and September\\xa024, 2022  \\nwere as follows (in millions):\\n2023 2022\\nHedged assets/(liabilities):\\nCurrent and non-current marketable securities $ 14,433 $ 13,378 \\nCurrent and non-current term debt $ (18,247) $ (18,739) \\nAccounts Receivable\\nTrade Receivables\\nAs of September 24, 2022, the Company had one customer that represented 10% or more of total trade receivables, which \\naccounted for 10%. The Company’s third-party cellular network carriers accounted for 41% and 44% of total trade receivables as \\nof September\\xa030, 2023  and September\\xa024, 2022 , respectively. The Company requires third-party credit support or collateral from \\ncertain customers to limit credit risk.\\nVendor Non-Trade Receivables\\nThe Company has non-trade receivables from certain of its manufacturing vendors resulting from the sale of components to \\nthese vendors who manufacture subassemblies or assemble final products for the Company. The Company purchases these \\ncomponents directly from suppliers. The Company does not reflect the sale of these components in products net sales. Rather, \\nthe Company recognizes any gain on these sales as a reduction of products cost of sales when the related final products are \\nsold by the Company. As of September\\xa030, 2023 , the Company had two vendors that individually represented 10% or more of \\ntotal vendor non-trade receivables, which accounted for 48% and 23%. As of September\\xa0 24, 2022 , the Company had two \\nvendors that individually represented 10% or more of total vendor n on-trade re ceivables, which accounted for 54% and 13%.\\nApple Inc. | 2023  Form 10-K | 38', metadata={'source': '../pdfs/_10-K-Q4-2023-As-Filed.pdf', 'page': 40})"
      ]
     },
     "execution_count": 10,
     "metadata": {},
     "output_type": "execute_result"
    }
   ],
   "source": [
    "chunks[55]"
   ]
  },
  {
   "cell_type": "markdown",
   "id": "71f66a3a",
   "metadata": {},
   "source": [
    "## 5. Embedding Model"
   ]
  },
  {
   "cell_type": "code",
   "execution_count": 11,
   "id": "009b3b8c",
   "metadata": {},
   "outputs": [],
   "source": [
    "from langchain_openai.embeddings import OpenAIEmbeddings\n",
    "\n",
    "\n",
    "vectorizer = OpenAIEmbeddings()"
   ]
  },
  {
   "cell_type": "markdown",
   "id": "1672aa24",
   "metadata": {},
   "source": [
    "## 6. Store in ChromaDB"
   ]
  },
  {
   "cell_type": "code",
   "execution_count": 12,
   "id": "4fd0b91d",
   "metadata": {},
   "outputs": [],
   "source": [
    "from langchain_community.vectorstores import Chroma\n",
    "\n",
    "chroma_db = Chroma.from_documents(chunks, vectorizer, persist_directory=\"../chroma_db\")"
   ]
  },
  {
   "cell_type": "markdown",
   "id": "77dbfbc8",
   "metadata": {},
   "source": [
    "## 7. Load from storage"
   ]
  },
  {
   "cell_type": "code",
   "execution_count": 13,
   "id": "8c13e0cd",
   "metadata": {},
   "outputs": [
    {
     "data": {
      "text/plain": [
       "10"
      ]
     },
     "execution_count": 13,
     "metadata": {},
     "output_type": "execute_result"
    }
   ],
   "source": [
    "query = \"What can you tell me about foreign exchange contracts?\"\n",
    "\n",
    "chroma_db = Chroma(persist_directory=\"../chroma_db\", embedding_function=vectorizer)\n",
    "\n",
    "docs = chroma_db.similarity_search(query, k=10)\n",
    "\n",
    "len(docs)"
   ]
  },
  {
   "cell_type": "code",
   "execution_count": 14,
   "id": "668076c9",
   "metadata": {
    "scrolled": false
   },
   "outputs": [
    {
     "data": {
      "text/plain": [
       "Document(page_content='The gross fair values of the Company’s derivative assets and liabilities as of September\\xa024, 2022  were as follows (in millions):\\n2022\\nFair Value of\\nDerivatives Designated\\nas Accounting HedgesFair Value of\\nDerivatives Not Designated\\nas Accounting HedgesTotal\\nFair Value\\nDerivative assets (1):\\nForeign exchange contracts $ 4,317 $ 2,819 $ 7,136 \\nDerivative liabilities (2):\\nForeign exchange contracts $ 2,205 $ 2,547 $ 4,752 \\nInterest rate contracts $ 1,367 $ — $ 1,367 \\n(1) Derivative assets are measured using Level 2 fair value inputs and are included in other current assets and other non-\\ncurrent assets in the Consolidated Balance Sheet.\\n(2) Derivative liabilities are measured using Level 2 fair value inputs and are included in other current liabilities and other non-\\ncurrent liabilities in the Consolidated Balance Sheet.\\nThe derivative assets above represent the Company’s gross credit exposure if all counterparties failed to perform. To mitigate \\ncredit risk, the Company generally uses collateral security arrangements that provide for collateral to be received or posted when \\nthe net fair values of certain derivatives fluctuate from contractually established thresholds. To further limit credit risk, the \\nCompany generally uses master netting arrangements with the respective counterparties to the Company’s derivative contracts, \\nunder which the Company is allowed to settle transactions with a single net amount payable by one party to the other. As of \\nSeptember\\xa024, 2022 , the potential effects of these rights of set-off associated with the Company’s derivative contracts, including \\nthe effects of collateral, would be a reduction to both derivative assets and derivative liabilities of $7.8 billion , resulting in a net \\nderivative asset of $412 million .\\nThe carrying amounts of the Company’s hedged items in fair value hedges as of September\\xa030, 2023  and September\\xa024, 2022  \\nwere as follows (in millions):\\n2023 2022\\nHedged assets/(liabilities):\\nCurrent and non-current marketable securities $ 14,433 $ 13,378 \\nCurrent and non-current term debt $ (18,247) $ (18,739) \\nAccounts Receivable\\nTrade Receivables\\nAs of September 24, 2022, the Company had one customer that represented 10% or more of total trade receivables, which \\naccounted for 10%. The Company’s third-party cellular network carriers accounted for 41% and 44% of total trade receivables as \\nof September\\xa030, 2023  and September\\xa024, 2022 , respectively. The Company requires third-party credit support or collateral from \\ncertain customers to limit credit risk.\\nVendor Non-Trade Receivables\\nThe Company has non-trade receivables from certain of its manufacturing vendors resulting from the sale of components to \\nthese vendors who manufacture subassemblies or assemble final products for the Company. The Company purchases these \\ncomponents directly from suppliers. The Company does not reflect the sale of these components in products net sales. Rather, \\nthe Company recognizes any gain on these sales as a reduction of products cost of sales when the related final products are \\nsold by the Company. As of September\\xa030, 2023 , the Company had two vendors that individually represented 10% or more of \\ntotal vendor non-trade receivables, which accounted for 48% and 23%. As of September\\xa0 24, 2022 , the Company had two \\nvendors that individually represented 10% or more of total vendor n on-trade re ceivables, which accounted for 54% and 13%.\\nApple Inc. | 2023  Form 10-K | 38', metadata={'page': 40, 'source': '../pdfs/_10-K-Q4-2023-As-Filed.pdf'})"
      ]
     },
     "execution_count": 14,
     "metadata": {},
     "output_type": "execute_result"
    }
   ],
   "source": [
    "docs[5]"
   ]
  },
  {
   "cell_type": "code",
   "execution_count": 15,
   "id": "08c9ab50",
   "metadata": {},
   "outputs": [],
   "source": [
    "retriever = chroma_db.as_retriever(search_type=\"mmr\", search_kwargs={'k': 15, 'lambda_mult': 0.25})"
   ]
  },
  {
   "cell_type": "code",
   "execution_count": 16,
   "id": "42bb697b",
   "metadata": {},
   "outputs": [
    {
     "data": {
      "text/plain": [
       "VectorStoreRetriever(tags=['Chroma', 'OpenAIEmbeddings'], vectorstore=<langchain_community.vectorstores.chroma.Chroma object at 0x10b19c280>, search_type='mmr', search_kwargs={'k': 15, 'lambda_mult': 0.25})"
      ]
     },
     "execution_count": 16,
     "metadata": {},
     "output_type": "execute_result"
    }
   ],
   "source": [
    "retriever"
   ]
  },
  {
   "cell_type": "markdown",
   "id": "9dc6ab40",
   "metadata": {},
   "source": [
    "## 8. Prompt template"
   ]
  },
  {
   "cell_type": "code",
   "execution_count": 17,
   "id": "f6633922",
   "metadata": {},
   "outputs": [],
   "source": [
    "from langchain.prompts import ChatPromptTemplate"
   ]
  },
  {
   "cell_type": "code",
   "execution_count": 18,
   "id": "ab1e16fa",
   "metadata": {},
   "outputs": [],
   "source": [
    "template = \"\"\"\n",
    "            Answer the question based on the context below. If you can't \n",
    "            answer the question, reply \"I don't know\".\n",
    "\n",
    "            Context: {context}\n",
    "\n",
    "            Question: {question}\n",
    "            \"\"\"\n",
    "\n",
    "\n",
    "prompt = ChatPromptTemplate.from_template(template)"
   ]
  },
  {
   "cell_type": "markdown",
   "id": "5aae0365",
   "metadata": {},
   "source": [
    "## 9. Chain"
   ]
  },
  {
   "cell_type": "code",
   "execution_count": 19,
   "id": "d1d263fa",
   "metadata": {},
   "outputs": [],
   "source": [
    "from langchain_core.output_parsers import StrOutputParser\n",
    "\n",
    "parser = StrOutputParser()"
   ]
  },
  {
   "cell_type": "code",
   "execution_count": 20,
   "id": "a27b420c",
   "metadata": {},
   "outputs": [],
   "source": [
    "from langchain_core.runnables import RunnablePassthrough"
   ]
  },
  {
   "cell_type": "code",
   "execution_count": 21,
   "id": "59db2cb7",
   "metadata": {},
   "outputs": [
    {
     "data": {
      "text/plain": [
       "'What can you tell me about foreign exchange contracts?'"
      ]
     },
     "execution_count": 21,
     "metadata": {},
     "output_type": "execute_result"
    }
   ],
   "source": [
    "query"
   ]
  },
  {
   "cell_type": "code",
   "execution_count": 22,
   "id": "70ec644b",
   "metadata": {},
   "outputs": [
    {
     "data": {
      "text/plain": [
       "\"Foreign exchange contracts are used by the Company as a form of derivative instrument to manage its exposure to fluctuations in foreign exchange rates. These contracts help to hedge against potential adverse movements in currency exchange rates that could impact the Company's financial performance. The types of foreign exchange derivatives mentioned include forward and option contracts. These instruments are part of the Company's broader strategy to mitigate the financial risks associated with changes in exchange rates. For instance, the fair values of these derivatives as of September 24, 2022, were reported with derivative assets in foreign exchange contracts amounting to $4,317 million designated as accounting hedges and $2,819 million not designated as accounting hedges, and derivative liabilities in foreign exchange contracts were $2,205 million designated as accounting hedges and $2,547 million not designated as accounting hedges.\""
      ]
     },
     "execution_count": 22,
     "metadata": {},
     "output_type": "execute_result"
    }
   ],
   "source": [
    "chain = {\"context\": retriever, \"question\": RunnablePassthrough()} | prompt | model | parser\n",
    "\n",
    "\n",
    "response = chain.invoke(query)\n",
    "\n",
    "\n",
    "response"
   ]
  },
  {
   "cell_type": "markdown",
   "id": "9e20c073",
   "metadata": {},
   "source": [
    "## 10. Code Summary"
   ]
  },
  {
   "cell_type": "code",
   "execution_count": 23,
   "id": "902b28fc",
   "metadata": {},
   "outputs": [],
   "source": [
    "import os                          \n",
    "from dotenv import load_dotenv      \n",
    "from langchain_openai.embeddings import OpenAIEmbeddings\n",
    "from langchain_openai.chat_models import ChatOpenAI   \n",
    "from langchain_community.vectorstores import Chroma\n",
    "from langchain.prompts import ChatPromptTemplate\n",
    "from langchain_core.output_parsers import StrOutputParser\n",
    "from langchain_core.runnables import RunnablePassthrough\n",
    "\n",
    "\n",
    "load_dotenv()\n",
    "\n",
    "\n",
    "OPENAI_API_KEY = os.getenv(\"OPENAI_API_KEY\")\n",
    "\n",
    "\n",
    "\n",
    "vectorizer = OpenAIEmbeddings()\n",
    "\n",
    "model = ChatOpenAI(openai_api_key=OPENAI_API_KEY, model=\"gpt-4-turbo\")\n",
    "\n",
    "chroma_db = Chroma(persist_directory=\"../chroma_db\", embedding_function=vectorizer)\n",
    "\n",
    "retriever = chroma_db.as_retriever(search_type=\"mmr\", search_kwargs={'k': 15, 'lambda_mult': 0.25})\n",
    "\n",
    "template = \"\"\"\n",
    "            Answer the question based on the context below. If you can't \n",
    "            answer the question, reply \"I don't know\".\n",
    "\n",
    "            Context: {context}\n",
    "\n",
    "            Question: {question}\n",
    "            \"\"\"\n",
    "\n",
    "\n",
    "prompt = ChatPromptTemplate.from_template(template)\n",
    "\n",
    "\n",
    "parser = StrOutputParser()\n",
    "\n",
    "chain = {\"context\": retriever, \"question\": RunnablePassthrough()} | prompt | model | parser\n"
   ]
  },
  {
   "cell_type": "code",
   "execution_count": 24,
   "id": "90cffab8",
   "metadata": {},
   "outputs": [
    {
     "data": {
      "text/plain": [
       "'Foreign exchange contracts are utilized by the Company as derivative instruments to manage exposure to fluctuations in foreign exchange rates. These contracts include both foreign exchange forward and option contracts. The Company uses these derivatives to hedge against adverse movements in exchange rates that could negatively impact its financial results, specifically its gross margins and net sales, when expressed in U.S. dollars. However, the effectiveness of these hedging activities may not fully offset the financial effects of unfavorable movements in foreign exchange rates during the periods the hedges are in place. The Company also faces risks related to the fair values of these contracts, which can be significantly affected by changes in exchange rates.'"
      ]
     },
     "execution_count": 24,
     "metadata": {},
     "output_type": "execute_result"
    }
   ],
   "source": [
    "query = \"What can you tell me about foreign exchange contracts?\"\n",
    "\n",
    "chain.invoke(query)"
   ]
  },
  {
   "cell_type": "code",
   "execution_count": 25,
   "id": "8f547f9d",
   "metadata": {},
   "outputs": [
    {
     "data": {
      "text/plain": [
       "'The main products of the Company are smartphones, personal computers, tablets, wearables, and accessories.'"
      ]
     },
     "execution_count": 25,
     "metadata": {},
     "output_type": "execute_result"
    }
   ],
   "source": [
    "query = \"What are the main products?\"\n",
    "\n",
    "chain.invoke(query)"
   ]
  },
  {
   "cell_type": "code",
   "execution_count": null,
   "id": "be55b040",
   "metadata": {},
   "outputs": [],
   "source": [
    "query = \"What can you tell me about legal proceedings?\"\n",
    "\n",
    "chain.invoke(query)"
   ]
  },
  {
   "cell_type": "code",
   "execution_count": null,
   "id": "0a3b4a89",
   "metadata": {},
   "outputs": [],
   "source": []
  }
 ],
 "metadata": {
  "kernelspec": {
   "display_name": "ia",
   "language": "python",
   "name": "ia"
  },
  "language_info": {
   "codemirror_mode": {
    "name": "ipython",
    "version": 3
   },
   "file_extension": ".py",
   "mimetype": "text/x-python",
   "name": "python",
   "nbconvert_exporter": "python",
   "pygments_lexer": "ipython3",
   "version": "3.9.19"
  },
  "toc": {
   "base_numbering": 1,
   "nav_menu": {},
   "number_sections": false,
   "sideBar": true,
   "skip_h1_title": true,
   "title_cell": "Table of Contents",
   "title_sidebar": "Contents",
   "toc_cell": true,
   "toc_position": {
    "height": "598px",
    "left": "65px",
    "top": "223.141px",
    "width": "302.398px"
   },
   "toc_section_display": true,
   "toc_window_display": true
  }
 },
 "nbformat": 4,
 "nbformat_minor": 5
}
