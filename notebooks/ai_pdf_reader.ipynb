{
 "cells": [
  {
   "cell_type": "markdown",
   "id": "7f7f6c43",
   "metadata": {},
   "source": [
    "# AI PDF Reader Assistant"
   ]
  },
  {
   "cell_type": "markdown",
   "id": "8ef44212",
   "metadata": {
    "toc": true
   },
   "source": [
    "<h1>Table of Contents<span class=\"tocSkip\"></span></h1>\n",
    "<div class=\"toc\"><ul class=\"toc-item\"><li><span><a href=\"#1.-OpenAI-API-KEY\" data-toc-modified-id=\"1.-OpenAI-API-KEY-1\">1. OpenAI API KEY</a></span></li><li><span><a href=\"#2.-Testing-GPT4-from-LangChain\" data-toc-modified-id=\"2.-Testing-GPT4-from-LangChain-2\">2. Testing GPT4 from LangChain</a></span></li><li><span><a href=\"#3.-Loading-PDF-file\" data-toc-modified-id=\"3.-Loading-PDF-file-3\">3. Loading PDF file</a></span></li><li><span><a href=\"#4.-Chunks\" data-toc-modified-id=\"4.-Chunks-4\">4. Chunks</a></span></li><li><span><a href=\"#5.-Embedding-Model\" data-toc-modified-id=\"5.-Embedding-Model-5\">5. Embedding Model</a></span></li><li><span><a href=\"#6.-Store-in-ChromaDB\" data-toc-modified-id=\"6.-Store-in-ChromaDB-6\">6. Store in ChromaDB</a></span></li><li><span><a href=\"#7.-Load-from-storage\" data-toc-modified-id=\"7.-Load-from-storage-7\">7. Load from storage</a></span></li><li><span><a href=\"#8.-Prompt-template\" data-toc-modified-id=\"8.-Prompt-template-8\">8. Prompt template</a></span></li></ul></div>"
   ]
  },
  {
   "cell_type": "markdown",
   "id": "6b40e829",
   "metadata": {},
   "source": [
    "## 1. OpenAI API KEY\n",
    "\n",
    "To carry out this project, we will need an API KEY from OpenAI to use the GPT-4 Turbo model. This API KEY can be obtained at https://platform.openai.com/api-keys. It is only displayed once, so it must be saved at the moment it is obtained. Of course, we will need to create an account to get it.\n",
    "\n",
    "We store the API KEY in a `.env` file to load it with the dotenv library and use it as an environment variable. This file is added to the `.gitignore` to ensure that it cannot be seen if we upload the code to GitHub, for example."
   ]
  },
  {
   "cell_type": "code",
   "execution_count": 1,
   "id": "72e5d311",
   "metadata": {},
   "outputs": [],
   "source": [
    "# import API KEY\n",
    "\n",
    "import os                           # operating system library\n",
    "from dotenv import load_dotenv      # load environment variables  \n",
    "\n",
    "\n",
    "load_dotenv()\n",
    "\n",
    "\n",
    "OPENAI_API_KEY = os.getenv(\"OPENAI_API_KEY\")"
   ]
  },
  {
   "cell_type": "markdown",
   "id": "c258001b",
   "metadata": {},
   "source": [
    "## 2. Testing GPT4 from LangChain\n",
    "\n",
    "We are going to test the connection from LangChain to the GPT-4 model."
   ]
  },
  {
   "cell_type": "code",
   "execution_count": 57,
   "id": "ad209f33",
   "metadata": {},
   "outputs": [
    {
     "data": {
      "text/plain": [
       "\"As of my last update in 2023, Apple's CEO is Tim Cook. He has been serving as CEO since August 2011, when he took over from Steve Jobs.\""
      ]
     },
     "execution_count": 57,
     "metadata": {},
     "output_type": "execute_result"
    }
   ],
   "source": [
    "from langchain_openai.chat_models import ChatOpenAI   # LangChain connection to OpenAI\n",
    "\n",
    "model = ChatOpenAI(openai_api_key=OPENAI_API_KEY, model=\"gpt-4-turbo\")\n",
    "\n",
    "response = model.invoke(\"Who is Apple's CEO?\")\n",
    "\n",
    "response.content"
   ]
  },
  {
   "cell_type": "markdown",
   "id": "c67dab3b",
   "metadata": {},
   "source": [
    "## 3. Loading PDF file"
   ]
  },
  {
   "cell_type": "code",
   "execution_count": 11,
   "id": "27628491",
   "metadata": {},
   "outputs": [
    {
     "data": {
      "text/plain": [
       "['_10-K-Q4-2023-As-Filed.pdf']"
      ]
     },
     "execution_count": 11,
     "metadata": {},
     "output_type": "execute_result"
    }
   ],
   "source": [
    "os.listdir(\"../pdfs\")"
   ]
  },
  {
   "cell_type": "code",
   "execution_count": 5,
   "id": "40aefee6",
   "metadata": {},
   "outputs": [],
   "source": [
    "from langchain_community.document_loaders import PyPDFDirectoryLoader"
   ]
  },
  {
   "cell_type": "code",
   "execution_count": 12,
   "id": "487b60a2",
   "metadata": {},
   "outputs": [],
   "source": [
    "# loads PDF file page by page\n",
    "\n",
    "loader = PyPDFDirectoryLoader(\"../pdfs/\")\n",
    "\n",
    "pages = loader.load()"
   ]
  },
  {
   "cell_type": "code",
   "execution_count": 13,
   "id": "0326b405",
   "metadata": {},
   "outputs": [
    {
     "data": {
      "text/plain": [
       "80"
      ]
     },
     "execution_count": 13,
     "metadata": {},
     "output_type": "execute_result"
    }
   ],
   "source": [
    "len(pages)"
   ]
  },
  {
   "cell_type": "code",
   "execution_count": 16,
   "id": "1c888af9",
   "metadata": {},
   "outputs": [
    {
     "data": {
      "text/plain": [
       "Document(page_content='UNITED STATES\\nSECURITIES AND EXCHANGE COMMISSION\\nWashington, D.C. 20549\\nFORM 10-K\\n(Mark One)\\n☒    ANNUAL REPORT PURSUANT TO SECTION 13 OR 15(d) OF THE SECURITIES EXCHANGE ACT OF 1934\\nFor the fiscal year ended September\\xa030, 2023\\nor\\n☐    TRANSITION REPORT PURSUANT TO SECTION 13 OR 15(d) OF THE SECURITIES EXCHANGE ACT OF 1934\\nFor the transition period from \\xa0\\xa0\\xa0\\xa0\\xa0\\xa0\\xa0\\xa0\\xa0\\xa0\\xa0\\xa0  to \\xa0\\xa0\\xa0\\xa0\\xa0\\xa0\\xa0\\xa0\\xa0\\xa0\\xa0\\xa0 .\\nCommission File Number: 001-36743\\nApple Inc.\\n(Exact name of Registrant as specified in its charter)\\nCalifornia 94-2404110\\n(State or other jurisdiction\\nof incorporation or organization)(I.R.S. Employer Identification No.)\\nOne Apple Park Way\\nCupertino , California 95014\\n(Address of principal executive offices) (Zip Code)\\n(408) 996-1010\\n(Registrant’s telephone number, including area code)\\nSecurities registered pursuant to Section 12(b) of the Act:\\nTitle of each classTrading \\nsymbol(s) Name of each exchange on which registered\\nCommon Stock, $0.00001  par value per share AAPL The Nasdaq Stock Market LLC\\n1.375% Notes due 2024 — The Nasdaq Stock Market LLC\\n0.000% Notes due 2025 — The Nasdaq Stock Market LLC\\n0.875% Notes due 2025 — The Nasdaq Stock Market LLC\\n1.625% Notes due 2026 — The Nasdaq Stock Market LLC\\n2.000% Notes due 2027 — The Nasdaq Stock Market LLC\\n1.375% Notes due 2029 — The Nasdaq Stock Market LLC\\n3.050% Notes due 2029 — The Nasdaq Stock Market LLC\\n0.500% Notes due 2031 — The Nasdaq Stock Market LLC\\n3.600% Notes due 2042 — The Nasdaq Stock Market LLC\\nSecurities registered pursuant to Section 12(g) of the Act:  None\\nIndicate by check mark if the Registrant is a well-known seasoned issuer, as defined in Rule 405 of the Securities Act.\\nYes\\xa0\\xa0☒\\xa0\\xa0\\xa0\\xa0\\xa0No\\xa0\\xa0☐\\nIndicate by check mark if the Registrant is not required to file reports pursuant to Section 13 or Section 15(d) of the Act.\\nYes\\xa0\\xa0☐\\xa0\\xa0\\xa0\\xa0\\xa0No\\xa0\\xa0☒', metadata={'source': '../pdfs/_10-K-Q4-2023-As-Filed.pdf', 'page': 0})"
      ]
     },
     "execution_count": 16,
     "metadata": {},
     "output_type": "execute_result"
    }
   ],
   "source": [
    "pages[0]  # first pdf page"
   ]
  },
  {
   "cell_type": "markdown",
   "id": "a7c03d2c",
   "metadata": {},
   "source": [
    "## 4. Chunks"
   ]
  },
  {
   "cell_type": "code",
   "execution_count": 17,
   "id": "5321042a",
   "metadata": {},
   "outputs": [],
   "source": [
    "chunks = loader.load_and_split()"
   ]
  },
  {
   "cell_type": "code",
   "execution_count": 18,
   "id": "39b19500",
   "metadata": {},
   "outputs": [
    {
     "data": {
      "text/plain": [
       "106"
      ]
     },
     "execution_count": 18,
     "metadata": {},
     "output_type": "execute_result"
    }
   ],
   "source": [
    "len(chunks)"
   ]
  },
  {
   "cell_type": "code",
   "execution_count": 22,
   "id": "ccc9705c",
   "metadata": {},
   "outputs": [
    {
     "data": {
      "text/plain": [
       "Document(page_content='The gross fair values of the Company’s derivative assets and liabilities as of September\\xa024, 2022  were as follows (in millions):\\n2022\\nFair Value of\\nDerivatives Designated\\nas Accounting HedgesFair Value of\\nDerivatives Not Designated\\nas Accounting HedgesTotal\\nFair Value\\nDerivative assets (1):\\nForeign exchange contracts $ 4,317 $ 2,819 $ 7,136 \\nDerivative liabilities (2):\\nForeign exchange contracts $ 2,205 $ 2,547 $ 4,752 \\nInterest rate contracts $ 1,367 $ — $ 1,367 \\n(1) Derivative assets are measured using Level 2 fair value inputs and are included in other current assets and other non-\\ncurrent assets in the Consolidated Balance Sheet.\\n(2) Derivative liabilities are measured using Level 2 fair value inputs and are included in other current liabilities and other non-\\ncurrent liabilities in the Consolidated Balance Sheet.\\nThe derivative assets above represent the Company’s gross credit exposure if all counterparties failed to perform. To mitigate \\ncredit risk, the Company generally uses collateral security arrangements that provide for collateral to be received or posted when \\nthe net fair values of certain derivatives fluctuate from contractually established thresholds. To further limit credit risk, the \\nCompany generally uses master netting arrangements with the respective counterparties to the Company’s derivative contracts, \\nunder which the Company is allowed to settle transactions with a single net amount payable by one party to the other. As of \\nSeptember\\xa024, 2022 , the potential effects of these rights of set-off associated with the Company’s derivative contracts, including \\nthe effects of collateral, would be a reduction to both derivative assets and derivative liabilities of $7.8 billion , resulting in a net \\nderivative asset of $412 million .\\nThe carrying amounts of the Company’s hedged items in fair value hedges as of September\\xa030, 2023  and September\\xa024, 2022  \\nwere as follows (in millions):\\n2023 2022\\nHedged assets/(liabilities):\\nCurrent and non-current marketable securities $ 14,433 $ 13,378 \\nCurrent and non-current term debt $ (18,247) $ (18,739) \\nAccounts Receivable\\nTrade Receivables\\nAs of September 24, 2022, the Company had one customer that represented 10% or more of total trade receivables, which \\naccounted for 10%. The Company’s third-party cellular network carriers accounted for 41% and 44% of total trade receivables as \\nof September\\xa030, 2023  and September\\xa024, 2022 , respectively. The Company requires third-party credit support or collateral from \\ncertain customers to limit credit risk.\\nVendor Non-Trade Receivables\\nThe Company has non-trade receivables from certain of its manufacturing vendors resulting from the sale of components to \\nthese vendors who manufacture subassemblies or assemble final products for the Company. The Company purchases these \\ncomponents directly from suppliers. The Company does not reflect the sale of these components in products net sales. Rather, \\nthe Company recognizes any gain on these sales as a reduction of products cost of sales when the related final products are \\nsold by the Company. As of September\\xa030, 2023 , the Company had two vendors that individually represented 10% or more of \\ntotal vendor non-trade receivables, which accounted for 48% and 23%. As of September\\xa0 24, 2022 , the Company had two \\nvendors that individually represented 10% or more of total vendor n on-trade re ceivables, which accounted for 54% and 13%.\\nApple Inc. | 2023  Form 10-K | 38', metadata={'source': '../pdfs/_10-K-Q4-2023-As-Filed.pdf', 'page': 40})"
      ]
     },
     "execution_count": 22,
     "metadata": {},
     "output_type": "execute_result"
    }
   ],
   "source": [
    "chunks[55]"
   ]
  },
  {
   "cell_type": "markdown",
   "id": "2034d076",
   "metadata": {},
   "source": [
    "## 5. Embedding Model"
   ]
  },
  {
   "cell_type": "code",
   "execution_count": 24,
   "id": "e0b45bc1",
   "metadata": {},
   "outputs": [],
   "source": [
    "from langchain_openai.embeddings import OpenAIEmbeddings\n",
    "\n",
    "\n",
    "vectorizer = OpenAIEmbeddings()"
   ]
  },
  {
   "cell_type": "markdown",
   "id": "a39f0b38",
   "metadata": {},
   "source": [
    "## 6. Store in ChromaDB"
   ]
  },
  {
   "cell_type": "code",
   "execution_count": 28,
   "id": "49239c4b",
   "metadata": {},
   "outputs": [],
   "source": [
    "from langchain_community.vectorstores import Chroma\n",
    "\n",
    "chroma_db = Chroma.from_documents(chunks, vectorizer, persist_directory=\"../chroma_db\")"
   ]
  },
  {
   "cell_type": "markdown",
   "id": "ae4d21db",
   "metadata": {},
   "source": [
    "## 7. Load from storage"
   ]
  },
  {
   "cell_type": "code",
   "execution_count": 44,
   "id": "99a19e17",
   "metadata": {},
   "outputs": [
    {
     "data": {
      "text/plain": [
       "10"
      ]
     },
     "execution_count": 44,
     "metadata": {},
     "output_type": "execute_result"
    }
   ],
   "source": [
    "query = \"What can you tell me about foreign exchange contracts?\"\n",
    "\n",
    "chroma_db = Chroma(persist_directory=\"../chroma_db\", embedding_function=vectorizer)\n",
    "\n",
    "docs = chroma_db.similarity_search(query, k=10)\n",
    "\n",
    "len(docs)"
   ]
  },
  {
   "cell_type": "code",
   "execution_count": 55,
   "id": "d183e143",
   "metadata": {
    "scrolled": false
   },
   "outputs": [
    {
     "data": {
      "text/plain": [
       "Document(page_content='The gross fair values of the Company’s derivative assets and liabilities as of September\\xa024, 2022  were as follows (in millions):\\n2022\\nFair Value of\\nDerivatives Designated\\nas Accounting HedgesFair Value of\\nDerivatives Not Designated\\nas Accounting HedgesTotal\\nFair Value\\nDerivative assets (1):\\nForeign exchange contracts $ 4,317 $ 2,819 $ 7,136 \\nDerivative liabilities (2):\\nForeign exchange contracts $ 2,205 $ 2,547 $ 4,752 \\nInterest rate contracts $ 1,367 $ — $ 1,367 \\n(1) Derivative assets are measured using Level 2 fair value inputs and are included in other current assets and other non-\\ncurrent assets in the Consolidated Balance Sheet.\\n(2) Derivative liabilities are measured using Level 2 fair value inputs and are included in other current liabilities and other non-\\ncurrent liabilities in the Consolidated Balance Sheet.\\nThe derivative assets above represent the Company’s gross credit exposure if all counterparties failed to perform. To mitigate \\ncredit risk, the Company generally uses collateral security arrangements that provide for collateral to be received or posted when \\nthe net fair values of certain derivatives fluctuate from contractually established thresholds. To further limit credit risk, the \\nCompany generally uses master netting arrangements with the respective counterparties to the Company’s derivative contracts, \\nunder which the Company is allowed to settle transactions with a single net amount payable by one party to the other. As of \\nSeptember\\xa024, 2022 , the potential effects of these rights of set-off associated with the Company’s derivative contracts, including \\nthe effects of collateral, would be a reduction to both derivative assets and derivative liabilities of $7.8 billion , resulting in a net \\nderivative asset of $412 million .\\nThe carrying amounts of the Company’s hedged items in fair value hedges as of September\\xa030, 2023  and September\\xa024, 2022  \\nwere as follows (in millions):\\n2023 2022\\nHedged assets/(liabilities):\\nCurrent and non-current marketable securities $ 14,433 $ 13,378 \\nCurrent and non-current term debt $ (18,247) $ (18,739) \\nAccounts Receivable\\nTrade Receivables\\nAs of September 24, 2022, the Company had one customer that represented 10% or more of total trade receivables, which \\naccounted for 10%. The Company’s third-party cellular network carriers accounted for 41% and 44% of total trade receivables as \\nof September\\xa030, 2023  and September\\xa024, 2022 , respectively. The Company requires third-party credit support or collateral from \\ncertain customers to limit credit risk.\\nVendor Non-Trade Receivables\\nThe Company has non-trade receivables from certain of its manufacturing vendors resulting from the sale of components to \\nthese vendors who manufacture subassemblies or assemble final products for the Company. The Company purchases these \\ncomponents directly from suppliers. The Company does not reflect the sale of these components in products net sales. Rather, \\nthe Company recognizes any gain on these sales as a reduction of products cost of sales when the related final products are \\nsold by the Company. As of September\\xa030, 2023 , the Company had two vendors that individually represented 10% or more of \\ntotal vendor non-trade receivables, which accounted for 48% and 23%. As of September\\xa0 24, 2022 , the Company had two \\nvendors that individually represented 10% or more of total vendor n on-trade re ceivables, which accounted for 54% and 13%.\\nApple Inc. | 2023  Form 10-K | 38', metadata={'page': 40, 'source': '../pdfs/_10-K-Q4-2023-As-Filed.pdf'})"
      ]
     },
     "execution_count": 55,
     "metadata": {},
     "output_type": "execute_result"
    }
   ],
   "source": [
    "docs[5]"
   ]
  },
  {
   "cell_type": "code",
   "execution_count": 51,
   "id": "72aab7a1",
   "metadata": {},
   "outputs": [],
   "source": [
    "retriever = chroma_db.as_retriever(search_type=\"mmr\", search_kwargs={'k': 10, 'lambda_mult': 0.25})"
   ]
  },
  {
   "cell_type": "code",
   "execution_count": 52,
   "id": "e1afeb1d",
   "metadata": {},
   "outputs": [
    {
     "data": {
      "text/plain": [
       "VectorStoreRetriever(tags=['Chroma', 'OpenAIEmbeddings'], vectorstore=<langchain_community.vectorstores.chroma.Chroma object at 0x1309beb80>, search_type='mmr', search_kwargs={'k': 10, 'lambda_mult': 0.25})"
      ]
     },
     "execution_count": 52,
     "metadata": {},
     "output_type": "execute_result"
    }
   ],
   "source": [
    "retriever"
   ]
  },
  {
   "cell_type": "markdown",
   "id": "7ec28253",
   "metadata": {},
   "source": [
    "## 8. Prompt template"
   ]
  },
  {
   "cell_type": "code",
   "execution_count": 53,
   "id": "17c80c49",
   "metadata": {},
   "outputs": [],
   "source": [
    "from langchain.prompts import ChatPromptTemplate"
   ]
  },
  {
   "cell_type": "code",
   "execution_count": 56,
   "id": "7460ef0f",
   "metadata": {},
   "outputs": [],
   "source": [
    "template = \"\"\"\n",
    "            Answer the question based on the context below. If you can't \n",
    "            answer the question, reply \"I don't know\".\n",
    "\n",
    "            Context: {context}\n",
    "\n",
    "            Question: {question}\n",
    "            \"\"\"\n",
    "\n",
    "\n",
    "prompt = ChatPromptTemplate.from_template(template)"
   ]
  },
  {
   "cell_type": "code",
   "execution_count": null,
   "id": "9441f1ee",
   "metadata": {},
   "outputs": [],
   "source": []
  },
  {
   "cell_type": "code",
   "execution_count": null,
   "id": "ba0bdc80",
   "metadata": {},
   "outputs": [],
   "source": []
  },
  {
   "cell_type": "code",
   "execution_count": null,
   "id": "32933b7b",
   "metadata": {},
   "outputs": [],
   "source": []
  },
  {
   "cell_type": "code",
   "execution_count": null,
   "id": "6911d3c7",
   "metadata": {},
   "outputs": [],
   "source": []
  },
  {
   "cell_type": "code",
   "execution_count": null,
   "id": "ccaae429",
   "metadata": {},
   "outputs": [],
   "source": []
  }
 ],
 "metadata": {
  "kernelspec": {
   "display_name": "ia",
   "language": "python",
   "name": "ia"
  },
  "language_info": {
   "codemirror_mode": {
    "name": "ipython",
    "version": 3
   },
   "file_extension": ".py",
   "mimetype": "text/x-python",
   "name": "python",
   "nbconvert_exporter": "python",
   "pygments_lexer": "ipython3",
   "version": "3.9.19"
  },
  "toc": {
   "base_numbering": 1,
   "nav_menu": {},
   "number_sections": false,
   "sideBar": true,
   "skip_h1_title": true,
   "title_cell": "Table of Contents",
   "title_sidebar": "Contents",
   "toc_cell": true,
   "toc_position": {
    "height": "598px",
    "left": "65px",
    "top": "223.141px",
    "width": "302.398px"
   },
   "toc_section_display": true,
   "toc_window_display": true
  }
 },
 "nbformat": 4,
 "nbformat_minor": 5
}
